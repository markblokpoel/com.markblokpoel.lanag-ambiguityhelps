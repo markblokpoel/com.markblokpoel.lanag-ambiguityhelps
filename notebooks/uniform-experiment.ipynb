{
 "cells": [
  {
   "cell_type": "code",
   "execution_count": null,
   "metadata": {},
   "outputs": [],
   "source": [
    "import $ivy.`org.apache.spark::spark-sql:2.4.0` // Or use any other 2.x version here\n",
    "import $ivy.`com.markblokpoel::lanag-core:0.3.5`\n",
    "import $ivy.`com.lihaoyi::scalatags:0.6.7`\n",
    "interp.load.cp(new java.net.URL(\"https://github.com/markblokpoel/lanag-ambiguityhelps/blob/jupyternotebooks/binaries/lanag-ambiguityhelps-0.1.jar?raw=true\"))"
   ]
  },
  {
   "cell_type": "code",
   "execution_count": null,
   "metadata": {},
   "outputs": [],
   "source": [
    "import org.apache.spark.sql._\n",
    "import org.apache.log4j.{Level, Logger}\n",
    "Logger.getLogger(\"org\").setLevel(Level.OFF)\n",
    "import com.markblokpoel.lanag.ambiguityhelps.experiments.uniform.UniformExperiment\n",
    "import scalatags.Text.all._\n",
    "import java.time.Instant\n",
    "import java.io.File"
   ]
  },
  {
   "cell_type": "code",
   "execution_count": null,
   "metadata": {},
   "outputs": [],
   "source": [
    "val spark = {\n",
    "  NotebookSparkSession.builder()\n",
    "    .master(\"local[*]\")\n",
    "    .getOrCreate()\n",
    "}\n",
    "\n",
    "val data = UniformExperiment.run(\n",
    "    spark,\n",
    "    vocabularySize = 8,\n",
    "    contextSize = 4,\n",
    "    changeResolution = 0.2,\n",
    "    sampleSize = 10,\n",
    "    interactionLength = 30,\n",
    "    beta = Double.PositiveInfinity,\n",
    "    randomSeed = 9064    \n",
    ")\n",
    "\n",
    "val flatData = UniformExperiment.flattenData(spark, data)\n",
    "val outputFolder = \"output/rsa_uniform-\"+Instant.now.toEpochMilli\n",
    "flatData.write.mode(SaveMode.Overwrite).option(\"header\", value = true).csv(outputFolder)"
   ]
  },
  {
   "cell_type": "code",
   "execution_count": null,
   "metadata": {},
   "outputs": [],
   "source": [
    "Html(\n",
    "    p(h1(\"Your files are ready to download:\"), br(),\n",
    "        (for(file <- new File(outputFolder).list.filter(f => f.endsWith(\".csv\"))) yield Seq(\n",
    "            a(href:=s\"$outputFolder/$file\", `type`:=\"text/csv\", attr(\"download\"):=s\"$outputFolder/$file\", s\"$outputFolder/$file\"),br()\n",
    "        ))).render\n",
    ")"
   ]
  }
 ],
 "metadata": {
  "kernelspec": {
   "display_name": "Scala 2.12",
   "language": "scala",
   "name": "scala212"
  },
  "language_info": {
   "codemirror_mode": "text/x-scala",
   "file_extension": ".scala",
   "mimetype": "text/x-scala",
   "name": "scala",
   "nbconvert_exporter": "script",
   "version": "2.12.10"
  }
 },
 "nbformat": 4,
 "nbformat_minor": 2
}
