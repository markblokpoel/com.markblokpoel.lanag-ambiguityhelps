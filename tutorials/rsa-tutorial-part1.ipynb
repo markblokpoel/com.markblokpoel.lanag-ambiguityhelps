{
 "cells": [
  {
   "cell_type": "markdown",
   "metadata": {},
   "source": [
    "## RSA Tutorial"
   ]
  },
  {
   "cell_type": "code",
   "execution_count": 4,
   "metadata": {},
   "outputs": [
    {
     "data": {
      "text/plain": [
       "\u001b[32mimport \u001b[39m\u001b[36m$ivy.$                                   \n",
       "\u001b[39m\n",
       "\u001b[32mimport \u001b[39m\u001b[36mcom.markblokpoel.lanag.rsa.Lexicon\n",
       "\u001b[39m\n",
       "\u001b[32mimport \u001b[39m\u001b[36mcom.markblokpoel.lanag.core.ReferentialIntention\u001b[39m"
      ]
     },
     "execution_count": 4,
     "metadata": {},
     "output_type": "execute_result"
    }
   ],
   "source": [
    "repl.pprinter() = repl.pprinter().copy(defaultHeight = 0)\n",
    "import $ivy.`com.markblokpoel::lanag-core:0.3.2`\n",
    "interp.load.cp(new java.net.URL(\"https://github.com/markblokpoel/lanag-ambiguityhelps/blob/jupyternotebooks/binaries/lanag-ambiguityhelps-0.1.jar?raw=true\"))\n",
    "import com.markblokpoel.lanag.rsa.Lexicon\n",
    "import com.markblokpoel.lanag.core.ReferentialIntention"
   ]
  },
  {
   "cell_type": "code",
   "execution_count": 5,
   "metadata": {},
   "outputs": [
    {
     "data": {
      "text/plain": [
       "\u001b[32mimport \u001b[39m\u001b[36mcom.markblokpoel.lanag.ambiguityhelps.{RSA1ShotAgent, RSA1ShotInteraction}\u001b[39m"
      ]
     },
     "execution_count": 5,
     "metadata": {},
     "output_type": "execute_result"
    }
   ],
   "source": [
    "import com.markblokpoel.lanag.ambiguityhelps.{RSA1ShotAgent, RSA1ShotInteraction}"
   ]
  },
  {
   "cell_type": "markdown",
   "metadata": {},
   "source": [
    "In the Rational Speech Act model, an agent’s lexicon is defined by a (possibly) graded mapping between a set of signals and a set of referents. This mapping is encoded in a matrix, where each column represents a referent, and each row represents a signal. An agent is defined by its matrix and its order of pragmatic inference. The snippet below illustrates how a zero order agent can be defined and we can print the agent to view its lexicon. "
   ]
  },
  {
   "cell_type": "code",
   "execution_count": 3,
   "metadata": {},
   "outputs": [
    {
     "name": "stdout",
     "output_type": "stream",
     "text": [
      "Agent with order 0\n",
      "1.0\t1.0\t0.0\t\n",
      "0.0\t1.0\t0.0\t\n",
      "0.0\t1.0\t1.0\t\n",
      "\n"
     ]
    },
    {
     "data": {
      "text/plain": [
       "......\n",
       "......\n",
       "......\n",
       "......"
      ]
     },
     "execution_count": 3,
     "metadata": {},
     "output_type": "execute_result"
    }
   ],
   "source": [
    "val map = Vector[Vector[Double]](\n",
    "  Vector(1,1,0),\n",
    "  Vector(0,1,0),\n",
    "  Vector(0,1,1)\n",
    ")\n",
    "\n",
    "val lexicon = Lexicon(map)\n",
    "val order = 0\n",
    "val smith = new RSA1ShotAgent(lexicon, order)\n",
    "\n",
    "println(smith)"
   ]
  },
  {
   "cell_type": "markdown",
   "metadata": {},
   "source": [
    "To get the agent to engage its pragmatic reasoning capacity, we need to tell the simulation framework if the agent is a speaker or a listener. This is done by calling the function .asSpeaker or .asListener to return the agent as a speaker or listener. It will internally perform pragmatic inference (based on RSA) at the defined order to compute a conditional probability mapping. We can view that conditional probability mapping by printing it. Play around with the map and the order to see how this changes the conditional probability mapping. For example, try setting order to 1 and then 2 or change the agent’s lexicon."
   ]
  },
  {
   "cell_type": "code",
   "execution_count": 4,
   "metadata": {},
   "outputs": [
    {
     "name": "stdout",
     "output_type": "stream",
     "text": [
      "\n",
      "Smith's zero order lexicon:\n",
      "1.0\t0.3333333333333333\t0.0\t\n",
      "0.0\t0.3333333333333333\t0.0\t\n",
      "0.0\t0.3333333333333333\t1.0\t\n",
      "\n"
     ]
    },
    {
     "data": {
      "text/plain": [
       "......\n",
       "......\n",
       "......\n",
       "......\n",
       "......"
      ]
     },
     "execution_count": 4,
     "metadata": {},
     "output_type": "execute_result"
    }
   ],
   "source": [
    "\n",
    "\n",
    "val map = Vector[Vector[Double]](\n",
    "  Vector(1,1,0),\n",
    "  Vector(0,1,0),\n",
    "  Vector(0,1,1)\n",
    ")\n",
    "val lexicon = Lexicon(map)\n",
    "val order = 0\n",
    "val smith = new RSA1ShotAgent(lexicon, order)\n",
    "\n",
    "val smithTheSpeaker = smith.asSpeaker\n",
    "\n",
    "println(\"\\nSmith's zero order lexicon:\\n\" + smithTheSpeaker.inferredLexicon)\n"
   ]
  },
  {
   "cell_type": "markdown",
   "metadata": {},
   "source": [
    "We can create a second agent called neo using the same lexicon as we used to construct smith. If we inspect neo’s conditional probability mapping as a listener, we can observe that it is different from smith’s as a speaker. This is because as a speaker, smith computes probability distributions per referent over all signals. As a listener, neo computes the other perspective, namely, probability distributions per signal over all referents."
   ]
  },
  {
   "cell_type": "code",
   "execution_count": 5,
   "metadata": {},
   "outputs": [
    {
     "name": "stdout",
     "output_type": "stream",
     "text": [
      "\n",
      "Smith's zero order lexicon:\n",
      "1.0\t0.3333333333333333\t0.0\t\n",
      "0.0\t0.3333333333333333\t0.0\t\n",
      "0.0\t0.3333333333333333\t1.0\t\n",
      "\n",
      "\n",
      "Neo's zero order lexicon:\n",
      "0.5\t0.5\t0.0\t\n",
      "0.0\t1.0\t0.0\t\n",
      "0.0\t0.5\t0.5\t\n",
      "\n"
     ]
    },
    {
     "data": {
      "text/plain": [
       "......\n",
       "......\n",
       "......\n",
       "......\n",
       "......\n",
       "......"
      ]
     },
     "execution_count": 5,
     "metadata": {},
     "output_type": "execute_result"
    }
   ],
   "source": [
    "val map = Vector[Vector[Double]](\n",
    "  Vector(1,1,0),\n",
    "  Vector(0,1,0),\n",
    "  Vector(0,1,1)\n",
    ")\n",
    "val lexicon = Lexicon(map)\n",
    "val order = 0\n",
    "val smith = new RSA1ShotAgent(lexicon, order)\n",
    "\n",
    "val smithTheSpeaker = smith.asSpeaker\n",
    "\n",
    "println(\"\\nSmith's zero order lexicon:\\n\" + smithTheSpeaker.inferredLexicon)\n",
    "\n",
    "val neoTheListener = new RSA1ShotAgent(lexicon, order).asListener\n",
    "\n",
    "println(\"\\nNeo's zero order lexicon:\\n\" + neoTheListener.inferredLexicon)"
   ]
  },
  {
   "cell_type": "markdown",
   "metadata": {},
   "source": [
    "Let’s have smith communicate something. We give it the intention to communicate referent 0 (represented by the first column). There are a few interesting things we can experiment with here:\n",
    "\n",
    "1. What signal has the highest probability given that intention?\n",
    "\n",
    "2. If you run the example multiple times, does the outcome change?\n",
    "\n",
    "3. Change smith’s intention to 1 (the middle column) and check the most likely signal smith produces. When you run this multiple times, does it change?\n",
    "\n",
    "4. As a zero order agent, smith cannot reason about the ambiguity in his lexicon and hence doesn’t care which signal it selects. Try setting the order to 1 and observe how both smith and neo’s mappings change (because they are now engaging in higher order pragmatic inference).\n",
    "\n",
    "5. Run the simulation multiple times. Now we can observe that smith consistently selects signal 1 because it is least ambiguous. This is because signal 0 is best interpreted by a listener to refer to referent 0 and signal 2 to refer to referent 2. Smith is reasoning through neo’s perspective."
   ]
  },
  {
   "cell_type": "code",
   "execution_count": 6,
   "metadata": {},
   "outputs": [
    {
     "name": "stdout",
     "output_type": "stream",
     "text": [
      "\n",
      "Smith's zero order lexicon:\n",
      "1.0\t0.3333333333333333\t0.0\t\n",
      "0.0\t0.3333333333333333\t0.0\t\n",
      "0.0\t0.3333333333333333\t1.0\t\n",
      "\n",
      "\n",
      "Neo's zero order lexicon:\n",
      "0.5\t0.5\t0.0\t\n",
      "0.0\t1.0\t0.0\t\n",
      "0.0\t0.5\t0.5\t\n",
      "\n",
      "\n",
      "Smith wants to communicate referent 0\n",
      "Smith computes that signal 0 is most likely to succeed.\n"
     ]
    },
    {
     "data": {
      "text/plain": [
       "......\n",
       "......\n",
       "......\n",
       "......\n",
       "......\n",
       "......\n",
       "......\n",
       "......\n",
       "......"
      ]
     },
     "execution_count": 6,
     "metadata": {},
     "output_type": "execute_result"
    }
   ],
   "source": [
    "val map = Vector[Vector[Double]](\n",
    "  Vector(1,1,0),\n",
    "  Vector(0,1,0),\n",
    "  Vector(0,1,1)\n",
    ")\n",
    "val lexicon = Lexicon(map)\n",
    "val order = 0\n",
    "val smith = new RSA1ShotAgent(lexicon, order)\n",
    "\n",
    "val smithTheSpeaker = smith.asSpeaker\n",
    "\n",
    "println(\"\\nSmith's zero order lexicon:\\n\" + smithTheSpeaker.inferredLexicon)\n",
    "\n",
    "val neoTheListener = new RSA1ShotAgent(lexicon, order).asListener\n",
    "\n",
    "println(\"\\nNeo's zero order lexicon:\\n\" + neoTheListener.inferredLexicon)\n",
    "\n",
    "\n",
    "\n",
    "val intention = 0\n",
    "println(\"\\nSmith wants to communicate referent \" + intention)\n",
    "\n",
    "val int = new ReferentialIntention(Option(intention))\n",
    "\n",
    "val mostProbableSignal = smithTheSpeaker.produceSignal(int)._1.content.get\n",
    "println(\"Smith computes that signal \" + mostProbableSignal + \" is most likely to succeed.\")"
   ]
  },
  {
   "cell_type": "markdown",
   "metadata": {},
   "source": [
    "Let’s see how neo would interpret smith’s signal. We get neo to infer the most likely referent given the observed signal. Observe that to neo, as a zero order listener, signal 0 is ambiguous and is equally likely to refer to referent 0 as it is to referent 1. If you run the simulation multiple times, you can observe that half of the time neo infers the correct referent, and half of the time it does not. We can again experiment:\n",
    "\n",
    "1. Try setting the order to 1 and see what happens. Can both agents successfully disambiguate their lexicons?\n",
    "\n",
    "2. Try setting the order to 2 or 4, does this help over and above 1st order?"
   ]
  },
  {
   "cell_type": "code",
   "execution_count": 7,
   "metadata": {},
   "outputs": [
    {
     "name": "stdout",
     "output_type": "stream",
     "text": [
      "\n",
      "Smith's zero order map:\n",
      "1.0\t0.3333333333333333\t0.0\t\n",
      "0.0\t0.3333333333333333\t0.0\t\n",
      "0.0\t0.3333333333333333\t1.0\t\n",
      "\n",
      "\n",
      "Neo's zero order map:\n",
      "0.5\t0.5\t0.0\t\n",
      "0.0\t1.0\t0.0\t\n",
      "0.0\t0.5\t0.5\t\n",
      "\n",
      "\n",
      "Smith wants to communicate referent 0\n",
      "Smith computes that signal 0 is most likely to succeed.\n",
      "Neo infers that referent 1 is most likely given the observed signal.\n"
     ]
    },
    {
     "data": {
      "text/plain": [
       "......\n",
       "......\n",
       "......\n",
       "......\n",
       "......\n",
       "......\n",
       "......\n",
       "......\n",
       "......\n",
       "......"
      ]
     },
     "execution_count": 7,
     "metadata": {},
     "output_type": "execute_result"
    }
   ],
   "source": [
    "val map = Vector[Vector[Double]](\n",
    "  Vector(1,1,0),\n",
    "  Vector(0,1,0),\n",
    "  Vector(0,1,1)\n",
    ")\n",
    "val lexicon = Lexicon(map)\n",
    "val order = 0\n",
    "val smith = new RSA1ShotAgent(lexicon, order)\n",
    "\n",
    "val smithTheSpeaker = smith.asSpeaker\n",
    "\n",
    "println(\"\\nSmith's zero order map:\\n\" + smithTheSpeaker.inferredLexicon)\n",
    "\n",
    "val neoTheListener = new RSA1ShotAgent(lexicon, order).asListener\n",
    "\n",
    "println(\"\\nNeo's zero order map:\\n\" + neoTheListener.inferredLexicon)\n",
    "\n",
    "val intention = 0\n",
    "println(\"\\nSmith wants to communicate referent \" + intention)\n",
    "\n",
    "val int = new ReferentialIntention(Option(intention))\n",
    "\n",
    "val mostProbableSignal = smithTheSpeaker.produceSignal(int)._1\n",
    "println(\"Smith computes that signal \" + mostProbableSignal.content.get + \" is most likely to succeed.\")\n",
    "\n",
    "val inferredReferent = neoTheListener.interpretSignal(mostProbableSignal)._1.content.get\n",
    "println(\"Neo infers that referent \" + inferredReferent + \" is most likely given the observed signal.\")"
   ]
  },
  {
   "cell_type": "markdown",
   "metadata": {},
   "source": [
    "We have so far had smith and neo communicate once. The power of simulations lies in the fact that agents never tire, we can run many agents under different conditions to extrapolate qualitative patterns. Below is the final code snippet that demonstrates a simple director-matcher experiment between smith and neo. They take turns communicating randomly assigned intentions. The complex code in the interaction loop is just there to print the results of each turn in the experiment. Try playing around with different mappings (e.g., high ambiguity  versus low ambiguity) or different orders of pragmatic inference. We have provided neo and smith with their own lexicons (mappings), so you can even investigate the effect of them not having the same lexicon. This simulation of Rational Speech Act can lead to novel insights into the role of pragmatic reasoning in communication."
   ]
  },
  {
   "cell_type": "code",
   "execution_count": 6,
   "metadata": {},
   "outputs": [
    {
     "name": "stdout",
     "output_type": "stream",
     "text": [
      "Smith's 0 order map:\n",
      "1.0\t0.3333333333333333\t0.0\t\n",
      "0.0\t0.3333333333333333\t0.0\t\n",
      "0.0\t0.3333333333333333\t1.0\t\n",
      "\n",
      "\n",
      "Neo's 0 order map:\n",
      "0.5\t0.5\t0.0\t\n",
      "0.0\t1.0\t0.0\t\n",
      "0.0\t0.5\t0.5\t\n",
      "\n"
     ]
    },
    {
     "data": {
      "text/markdown": [
       "\n",
       "|Variable|Value|\n",
       "|---|---|\n",
       "|Smith's ambiguity|1.6666666666666667|\n",
       "|Neo's ambiguity|1.6666666666666667|\n",
       "|Smith's order|0|\n",
       "|Neo's order|0|\n",
       "|Mean success|0.6|\n",
       "|Number of rounds|5|\n"
      ]
     },
     "metadata": {},
     "output_type": "display_data"
    },
    {
     "data": {
      "text/markdown": [
       "\n",
       "|round|success|\n",
       "|---|---|\n",
       "|0|true|\n",
       "|1|true|\n",
       "|2|false|\n",
       "|3|true|\n",
       "|4|false|\n",
       "\n"
      ]
     },
     "metadata": {},
     "output_type": "display_data"
    },
    {
     "data": {
      "text/plain": [
       "......\n",
       "......\n",
       "......\n",
       "......\n",
       "......\n",
       "......\n",
       "......\n",
       "......\n",
       "......\n",
       "......"
      ]
     },
     "execution_count": 6,
     "metadata": {},
     "output_type": "execute_result"
    }
   ],
   "source": [
    "// Try chaning values in smith's lexicon\n",
    "val smithsLexicon = Vector[Vector[Double]](\n",
    "  Vector(1,1,0),\n",
    "  Vector(0,1,0),\n",
    "  Vector(0,1,1)\n",
    ")\n",
    "val smithsOrder = 0 // Try chaning smiths's order\n",
    "val smith = new RSA1ShotAgent(Lexicon(smithsLexicon), smithsOrder)\n",
    "val smithTheSpeaker = smith.asSpeaker\n",
    "println(\"Smith's \" + smithsOrder + \" order map:\\n\" + smithTheSpeaker.inferredLexicon)\n",
    "\n",
    "// Try chaning values in neo's lexicon\n",
    "val neosLexicon = Vector[Vector[Double]](\n",
    "  Vector(1,1,0),\n",
    "  Vector(0,1,0),\n",
    "  Vector(0,1,1)\n",
    ")\n",
    "val neosOrder = 0 // Try changing neo's order\n",
    "val neo = new RSA1ShotAgent(Lexicon(neosLexicon), neosOrder)\n",
    "val neoTheListener = neo.asListener\n",
    "println(\"\\nNeo's \" + neosOrder + \" order map:\\n\" + neoTheListener.inferredLexicon)\n",
    "\n",
    "\n",
    "\n",
    "val interaction = new RSA1ShotInteraction(smith, neo, maxTurns=5)\n",
    "val data = interaction.runAndCollectData\n",
    "\n",
    "Markdown(s\"\"\"\n",
    "|Variable|Value|\n",
    "|---|---|\n",
    "|Smith's ambiguity|${data.agent1AmbiguityMean}|\n",
    "|Neo's ambiguity|${data.agent2AmbiguityMean}|\n",
    "|Smith's order|${data.agent1Order}|\n",
    "|Neo's order|${data.agent2Order}|\n",
    "|Mean success|${data.interaction.count(d => d.success)/data.interaction.length.toDouble}|\n",
    "|Number of rounds|${data.interaction.length}|\n",
    "\"\"\")\n",
    "\n",
    "Markdown(s\"\"\"\n",
    "|round|success|\n",
    "|---|---|\n",
    "${data.interaction.map(i => \"|\"+i.turn+\"|\"+i.success+\"|\\n\").foldLeft(\"\")(_ + _)}\n",
    "\"\"\")             \n"
   ]
  },
  {
   "cell_type": "markdown",
   "metadata": {},
   "source": [
    "## Plots"
   ]
  },
  {
   "cell_type": "code",
   "execution_count": 1,
   "metadata": {},
   "outputs": [
    {
     "name": "stderr",
     "output_type": "stream",
     "text": [
      "Downloading https://repo1.maven.org/maven2/org/plotly-scala/plotly-almond_2.12/0.7.0/plotly-almond_2.12-0.7.0.pom.sha1\n",
      "Downloading https://repo1.maven.org/maven2/org/plotly-scala/plotly-almond_2.12/0.7.0/plotly-almond_2.12-0.7.0.pom\n",
      "Downloaded https://repo1.maven.org/maven2/org/plotly-scala/plotly-almond_2.12/0.7.0/plotly-almond_2.12-0.7.0.pom\n",
      "Downloaded https://repo1.maven.org/maven2/org/plotly-scala/plotly-almond_2.12/0.7.0/plotly-almond_2.12-0.7.0.pom.sha1\n",
      "Downloading https://repo1.maven.org/maven2/org/plotly-scala/plotly-core_2.12/0.7.0/plotly-core_2.12-0.7.0.pom\n",
      "Downloading https://repo1.maven.org/maven2/org/plotly-scala/plotly-render_2.12/0.7.0/plotly-render_2.12-0.7.0.pom\n",
      "Downloading https://repo1.maven.org/maven2/org/plotly-scala/plotly-render_2.12/0.7.0/plotly-render_2.12-0.7.0.pom.sha1\n",
      "Downloading https://repo1.maven.org/maven2/org/plotly-scala/plotly-core_2.12/0.7.0/plotly-core_2.12-0.7.0.pom.sha1\n",
      "Downloaded https://repo1.maven.org/maven2/org/plotly-scala/plotly-core_2.12/0.7.0/plotly-core_2.12-0.7.0.pom\n",
      "Downloaded https://repo1.maven.org/maven2/org/plotly-scala/plotly-render_2.12/0.7.0/plotly-render_2.12-0.7.0.pom\n",
      "Downloaded https://repo1.maven.org/maven2/org/plotly-scala/plotly-render_2.12/0.7.0/plotly-render_2.12-0.7.0.pom.sha1\n",
      "Downloaded https://repo1.maven.org/maven2/org/plotly-scala/plotly-core_2.12/0.7.0/plotly-core_2.12-0.7.0.pom.sha1\n",
      "Downloading https://repo1.maven.org/maven2/org/plotly-scala/plotly-core_2.12/0.7.0/plotly-core_2.12-0.7.0.jar\n",
      "Downloading https://repo1.maven.org/maven2/org/plotly-scala/plotly-core_2.12/0.7.0/plotly-core_2.12-0.7.0.jar.sha1\n",
      "Downloading https://repo1.maven.org/maven2/org/plotly-scala/plotly-render_2.12/0.7.0/plotly-render_2.12-0.7.0.jar\n",
      "Downloading https://repo1.maven.org/maven2/org/plotly-scala/plotly-render_2.12/0.7.0/plotly-render_2.12-0.7.0.jar.sha1\n",
      "Downloading https://repo1.maven.org/maven2/org/plotly-scala/plotly-core_2.12/0.7.0/plotly-core_2.12-0.7.0-sources.jar\n",
      "Downloading https://repo1.maven.org/maven2/org/plotly-scala/plotly-core_2.12/0.7.0/plotly-core_2.12-0.7.0-sources.jar.sha1\n",
      "Downloaded https://repo1.maven.org/maven2/org/plotly-scala/plotly-core_2.12/0.7.0/plotly-core_2.12-0.7.0.jar.sha1\n",
      "Downloading https://repo1.maven.org/maven2/org/plotly-scala/plotly-render_2.12/0.7.0/plotly-render_2.12-0.7.0-sources.jar\n",
      "Downloaded https://repo1.maven.org/maven2/org/plotly-scala/plotly-render_2.12/0.7.0/plotly-render_2.12-0.7.0.jar.sha1\n",
      "Downloading https://repo1.maven.org/maven2/org/plotly-scala/plotly-render_2.12/0.7.0/plotly-render_2.12-0.7.0-sources.jar.sha1\n",
      "Downloaded https://repo1.maven.org/maven2/org/plotly-scala/plotly-render_2.12/0.7.0/plotly-render_2.12-0.7.0-sources.jar\n",
      "Downloading https://repo1.maven.org/maven2/org/plotly-scala/plotly-almond_2.12/0.7.0/plotly-almond_2.12-0.7.0.jar\n",
      "Downloaded https://repo1.maven.org/maven2/org/plotly-scala/plotly-core_2.12/0.7.0/plotly-core_2.12-0.7.0-sources.jar\n",
      "Downloading https://repo1.maven.org/maven2/org/plotly-scala/plotly-almond_2.12/0.7.0/plotly-almond_2.12-0.7.0.jar.sha1\n",
      "Downloaded https://repo1.maven.org/maven2/org/plotly-scala/plotly-render_2.12/0.7.0/plotly-render_2.12-0.7.0-sources.jar.sha1\n",
      "Downloading https://repo1.maven.org/maven2/org/plotly-scala/plotly-almond_2.12/0.7.0/plotly-almond_2.12-0.7.0-sources.jar\n",
      "Downloaded https://repo1.maven.org/maven2/org/plotly-scala/plotly-almond_2.12/0.7.0/plotly-almond_2.12-0.7.0.jar\n",
      "Downloading https://repo1.maven.org/maven2/org/plotly-scala/plotly-almond_2.12/0.7.0/plotly-almond_2.12-0.7.0-sources.jar.sha1\n",
      "Downloaded https://repo1.maven.org/maven2/org/plotly-scala/plotly-almond_2.12/0.7.0/plotly-almond_2.12-0.7.0.jar.sha1\n",
      "Downloaded https://repo1.maven.org/maven2/org/plotly-scala/plotly-almond_2.12/0.7.0/plotly-almond_2.12-0.7.0-sources.jar\n",
      "Downloaded https://repo1.maven.org/maven2/org/plotly-scala/plotly-core_2.12/0.7.0/plotly-core_2.12-0.7.0.jar\n",
      "Downloaded https://repo1.maven.org/maven2/org/plotly-scala/plotly-almond_2.12/0.7.0/plotly-almond_2.12-0.7.0-sources.jar.sha1\n",
      "Downloaded https://repo1.maven.org/maven2/org/plotly-scala/plotly-core_2.12/0.7.0/plotly-core_2.12-0.7.0-sources.jar.sha1\n",
      "Downloaded https://repo1.maven.org/maven2/org/plotly-scala/plotly-render_2.12/0.7.0/plotly-render_2.12-0.7.0.jar\n"
     ]
    },
    {
     "data": {
      "text/plain": [
       "\u001b[32mimport \u001b[39m\u001b[36m$ivy.$                                      \n",
       "\u001b[39m\n",
       "\u001b[32mimport \u001b[39m\u001b[36mplotly._, plotly.element._, plotly.layout._, plotly.Almond._\u001b[39m"
      ]
     },
     "execution_count": 1,
     "metadata": {},
     "output_type": "execute_result"
    }
   ],
   "source": [
    "// import $ivy.`org.plotly-scala::plotly-almond:0.5.2`\n",
    "import $ivy.`org.plotly-scala::plotly-almond:0.7.0`\n",
    "import plotly._, plotly.element._, plotly.layout._, plotly.Almond._"
   ]
  },
  {
   "cell_type": "markdown",
   "metadata": {},
   "source": [
    "I had to install the jupyterLab extension via:  \n",
    "&nbsp;&nbsp;&nbsp;&nbsp;`jupyter labextension install @jupyterlab/plotly-extension`  \n",
    "Also first install nodejs by:  \n",
    "&nbsp;&nbsp;&nbsp;&nbsp;`conda install nodejs`"
   ]
  },
  {
   "cell_type": "code",
   "execution_count": 2,
   "metadata": {},
   "outputs": [
    {
     "data": {
      "text/html": [
       "\n",
       "      <script type=\"text/javascript\">\n",
       "        require.config({\n",
       "  paths: {\n",
       "    d3: 'https://cdnjs.cloudflare.com/ajax/libs/d3/3.5.17/d3.min',\n",
       "    plotly: 'https://cdn.plot.ly/plotly-1.41.3.min',\n",
       "    jquery: 'https://code.jquery.com/jquery-3.3.1.min'\n",
       "  },\n",
       "\n",
       "  shim: {\n",
       "    plotly: {\n",
       "      deps: ['d3', 'jquery'],\n",
       "      exports: 'plotly'\n",
       "    }\n",
       "  }\n",
       "});\n",
       "        \n",
       "\n",
       "        require(['plotly'], function(Plotly) {\n",
       "          window.Plotly = Plotly;\n",
       "        });\n",
       "      </script>\n",
       "    "
      ]
     },
     "metadata": {},
     "output_type": "display_data"
    },
    {
     "data": {
      "application/vnd.plotly.v1+json": {
       "data": [
        {
         "type": "bar",
         "x": [
          "Banana",
          "Apple",
          "Grapefruit"
         ],
         "y": [
          10,
          8,
          5
         ]
        }
       ],
       "layout": {}
      },
      "text/html": [
       "<div class=\"chart\" id=\"plot-d0629ee1-22b3-483d-85ae-f4d78d5699ec\"></div>\n",
       "<script>require(['plotly'], function(Plotly) {\n",
       "  (function () {\n",
       "  var data0 = {\"x\":[\"Banana\",\"Apple\",\"Grapefruit\"],\"y\":[10.0,8.0,5.0],\"type\":\"bar\"};\n",
       "\n",
       "  var data = [data0];\n",
       "  var layout = {};\n",
       "\n",
       "  Plotly.plot('plot-d0629ee1-22b3-483d-85ae-f4d78d5699ec', data, layout);\n",
       "})();\n",
       "});\n",
       "      </script>\n",
       "           "
      ]
     },
     "metadata": {},
     "output_type": "display_data"
    },
    {
     "data": {
      "text/plain": [
       "\u001b[36mx\u001b[39m: \u001b[32mSeq\u001b[39m[\u001b[32mString\u001b[39m] = \u001b[33mList\u001b[39m(\u001b[32m\"Banana\"\u001b[39m, \u001b[32m\"Apple\"\u001b[39m, \u001b[32m\"Grapefruit\"\u001b[39m)\n",
       "\u001b[36my\u001b[39m: \u001b[32mSeq\u001b[39m[\u001b[32mInt\u001b[39m] = \u001b[33mList\u001b[39m(\u001b[32m10\u001b[39m, \u001b[32m8\u001b[39m, \u001b[32m5\u001b[39m)\n",
       "\u001b[36mres1_1\u001b[39m: \u001b[32mString\u001b[39m = \u001b[32m\"plot-d0629ee1-22b3-483d-85ae-f4d78d5699ec\"\u001b[39m"
      ]
     },
     "execution_count": 2,
     "metadata": {},
     "output_type": "execute_result"
    }
   ],
   "source": [
    "val (x, y) = Seq(\n",
    "  \"Banana\" -> 10,\n",
    "  \"Apple\" -> 8,\n",
    "  \"Grapefruit\" -> 5\n",
    ").unzip\n",
    "\n",
    "Bar(x, y).plot()"
   ]
  },
  {
   "cell_type": "code",
   "execution_count": 3,
   "metadata": {},
   "outputs": [
    {
     "data": {
      "application/vnd.plotly.v1+json": {
       "data": [
        {
         "type": "scatter",
         "x": [
          1,
          2,
          3,
          4
         ],
         "y": [
          10,
          15,
          13,
          17
         ]
        },
        {
         "type": "scatter",
         "x": [
          1,
          2,
          3,
          4
         ],
         "y": [
          16,
          5,
          11,
          9
         ]
        }
       ],
       "layout": {}
      },
      "text/html": [
       "<div class=\"chart\" id=\"plot-26748a95-eb1b-410e-9196-5ffc60bbccfa\"></div>\n",
       "<script>require(['plotly'], function(Plotly) {\n",
       "  (function () {\n",
       "  var data0 = {\"x\":[1.0,2.0,3.0,4.0],\"y\":[10.0,15.0,13.0,17.0],\"type\":\"scatter\"};\n",
       "  var data1 = {\"x\":[1.0,2.0,3.0,4.0],\"y\":[16.0,5.0,11.0,9.0],\"type\":\"scatter\"};\n",
       "\n",
       "  var data = [data0, data1];\n",
       "  var layout = {};\n",
       "\n",
       "  Plotly.plot('plot-26748a95-eb1b-410e-9196-5ffc60bbccfa', data, layout);\n",
       "})();\n",
       "});\n",
       "      </script>\n",
       "           "
      ]
     },
     "metadata": {},
     "output_type": "display_data"
    },
    {
     "data": {
      "text/plain": [
       "\u001b[36mtrace1\u001b[39m: \u001b[32mScatter\u001b[39m = \u001b[33mScatter\u001b[39m(\n",
       "  \u001b[33mSome\u001b[39m(\u001b[33mDoubles\u001b[39m(\u001b[33mList\u001b[39m(\u001b[32m1.0\u001b[39m, \u001b[32m2.0\u001b[39m, \u001b[32m3.0\u001b[39m, \u001b[32m4.0\u001b[39m))),\n",
       "  \u001b[33mSome\u001b[39m(\u001b[33mDoubles\u001b[39m(\u001b[33mList\u001b[39m(\u001b[32m10.0\u001b[39m, \u001b[32m15.0\u001b[39m, \u001b[32m13.0\u001b[39m, \u001b[32m17.0\u001b[39m))),\n",
       "  \u001b[32mNone\u001b[39m,\n",
       "  \u001b[32mNone\u001b[39m,\n",
       "  \u001b[32mNone\u001b[39m,\n",
       "  \u001b[32mNone\u001b[39m,\n",
       "  \u001b[32mNone\u001b[39m,\n",
       "  \u001b[32mNone\u001b[39m,\n",
       "  \u001b[32mNone\u001b[39m,\n",
       "  \u001b[32mNone\u001b[39m,\n",
       "  \u001b[32mNone\u001b[39m,\n",
       "  \u001b[32mNone\u001b[39m,\n",
       "  \u001b[32mNone\u001b[39m,\n",
       "  \u001b[32mNone\u001b[39m,\n",
       "  \u001b[32mNone\u001b[39m,\n",
       "  \u001b[32mNone\u001b[39m,\n",
       "  \u001b[32mNone\u001b[39m,\n",
       "  \u001b[32mNone\u001b[39m,\n",
       "  \u001b[32mNone\u001b[39m,\n",
       "  \u001b[32mNone\u001b[39m,\n",
       "  \u001b[32mNone\u001b[39m\n",
       ")\n",
       "\u001b[36mtrace2\u001b[39m: \u001b[32mScatter\u001b[39m = \u001b[33mScatter\u001b[39m(\n",
       "  \u001b[33mSome\u001b[39m(\u001b[33mDoubles\u001b[39m(\u001b[33mList\u001b[39m(\u001b[32m1.0\u001b[39m, \u001b[32m2.0\u001b[39m, \u001b[32m3.0\u001b[39m, \u001b[32m4.0\u001b[39m))),\n",
       "  \u001b[33mSome\u001b[39m(\u001b[33mDoubles\u001b[39m(\u001b[33mList\u001b[39m(\u001b[32m16.0\u001b[39m, \u001b[32m5.0\u001b[39m, \u001b[32m11.0\u001b[39m, \u001b[32m9.0\u001b[39m))),\n",
       "  \u001b[32mNone\u001b[39m,\n",
       "  \u001b[32mNone\u001b[39m,\n",
       "  \u001b[32mNone\u001b[39m,\n",
       "  \u001b[32mNone\u001b[39m,\n",
       "  \u001b[32mNone\u001b[39m,\n",
       "  \u001b[32mNone\u001b[39m,\n",
       "  \u001b[32mNone\u001b[39m,\n",
       "  \u001b[32mNone\u001b[39m,\n",
       "  \u001b[32mNone\u001b[39m,\n",
       "  \u001b[32mNone\u001b[39m,\n",
       "  \u001b[32mNone\u001b[39m,\n",
       "  \u001b[32mNone\u001b[39m,\n",
       "  \u001b[32mNone\u001b[39m,\n",
       "  \u001b[32mNone\u001b[39m,\n",
       "  \u001b[32mNone\u001b[39m,\n",
       "  \u001b[32mNone\u001b[39m,\n",
       "  \u001b[32mNone\u001b[39m,\n",
       "  \u001b[32mNone\u001b[39m,\n",
       "  \u001b[32mNone\u001b[39m\n",
       ")\n",
       "\u001b[36mdata\u001b[39m: \u001b[32mSeq\u001b[39m[\u001b[32mScatter\u001b[39m] = \u001b[33mList\u001b[39m(\n",
       "  \u001b[33mScatter\u001b[39m(\n",
       "    \u001b[33mSome\u001b[39m(\u001b[33mDoubles\u001b[39m(\u001b[33mList\u001b[39m(\u001b[32m1.0\u001b[39m, \u001b[32m2.0\u001b[39m, \u001b[32m3.0\u001b[39m, \u001b[32m4.0\u001b[39m))),\n",
       "    \u001b[33mSome\u001b[39m(\u001b[33mDoubles\u001b[39m(\u001b[33mList\u001b[39m(\u001b[32m10.0\u001b[39m, \u001b[32m15.0\u001b[39m, \u001b[32m13.0\u001b[39m, \u001b[32m17.0\u001b[39m))),\n",
       "    \u001b[32mNone\u001b[39m,\n",
       "    \u001b[32mNone\u001b[39m,\n",
       "    \u001b[32mNone\u001b[39m,\n",
       "    \u001b[32mNone\u001b[39m,\n",
       "    \u001b[32mNone\u001b[39m,\n",
       "    \u001b[32mNone\u001b[39m,\n",
       "    \u001b[32mNone\u001b[39m,\n",
       "    \u001b[32mNone\u001b[39m,\n",
       "    \u001b[32mNone\u001b[39m,\n",
       "    \u001b[32mNone\u001b[39m,\n",
       "    \u001b[32mNone\u001b[39m,\n",
       "    \u001b[32mNone\u001b[39m,\n",
       "    \u001b[32mNone\u001b[39m,\n",
       "    \u001b[32mNone\u001b[39m,\n",
       "    \u001b[32mNone\u001b[39m,\n",
       "    \u001b[32mNone\u001b[39m,\n",
       "    \u001b[32mNone\u001b[39m,\n",
       "    \u001b[32mNone\u001b[39m,\n",
       "    \u001b[32mNone\u001b[39m\n",
       "  ),\n",
       "  \u001b[33mScatter\u001b[39m(\n",
       "    \u001b[33mSome\u001b[39m(\u001b[33mDoubles\u001b[39m(\u001b[33mList\u001b[39m(\u001b[32m1.0\u001b[39m, \u001b[32m2.0\u001b[39m, \u001b[32m3.0\u001b[39m, \u001b[32m4.0\u001b[39m))),\n",
       "    \u001b[33mSome\u001b[39m(\u001b[33mDoubles\u001b[39m(\u001b[33mList\u001b[39m(\u001b[32m16.0\u001b[39m, \u001b[32m5.0\u001b[39m, \u001b[32m11.0\u001b[39m, \u001b[32m9.0\u001b[39m))),\n",
       "    \u001b[32mNone\u001b[39m,\n",
       "    \u001b[32mNone\u001b[39m,\n",
       "    \u001b[32mNone\u001b[39m,\n",
       "    \u001b[32mNone\u001b[39m,\n",
       "    \u001b[32mNone\u001b[39m,\n",
       "    \u001b[32mNone\u001b[39m,\n",
       "    \u001b[32mNone\u001b[39m,\n",
       "    \u001b[32mNone\u001b[39m,\n",
       "    \u001b[32mNone\u001b[39m,\n",
       "    \u001b[32mNone\u001b[39m,\n",
       "    \u001b[32mNone\u001b[39m,\n",
       "    \u001b[32mNone\u001b[39m,\n",
       "...\n",
       "\u001b[36mres2_3\u001b[39m: \u001b[32mString\u001b[39m = \u001b[32m\"plot-26748a95-eb1b-410e-9196-5ffc60bbccfa\"\u001b[39m"
      ]
     },
     "execution_count": 3,
     "metadata": {},
     "output_type": "execute_result"
    }
   ],
   "source": [
    "val trace1 = Scatter(\n",
    "  Seq(1, 2, 3, 4),\n",
    "  Seq(10, 15, 13, 17)\n",
    ")\n",
    "\n",
    "val trace2 = Scatter(\n",
    "  Seq(1, 2, 3, 4),\n",
    "  Seq(16, 5, 11, 9)\n",
    ")\n",
    "\n",
    "val data = Seq(trace1, trace2)\n",
    "\n",
    "plot(data)"
   ]
  },
  {
   "cell_type": "code",
   "execution_count": null,
   "metadata": {},
   "outputs": [],
   "source": []
  }
 ],
 "metadata": {
  "kernelspec": {
   "display_name": "Scala 2.12",
   "language": "scala",
   "name": "scala212"
  },
  "language_info": {
   "codemirror_mode": "text/x-scala",
   "file_extension": ".scala",
   "mimetype": "text/x-scala",
   "name": "scala",
   "nbconvert_exporter": "script",
   "version": "2.12.8"
  },
  "latex_envs": {
   "LaTeX_envs_menu_present": true,
   "autoclose": false,
   "autocomplete": true,
   "bibliofile": "biblio.bib",
   "cite_by": "apalike",
   "current_citInitial": 1,
   "eqLabelWithNumbers": true,
   "eqNumInitial": 1,
   "hotkeys": {
    "equation": "Ctrl-E",
    "itemize": "Ctrl-I"
   },
   "labels_anchors": false,
   "latex_user_defs": false,
   "report_style_numbering": false,
   "user_envs_cfg": false
  },
  "varInspector": {
   "cols": {
    "lenName": 16,
    "lenType": 16,
    "lenVar": 40
   },
   "kernels_config": {
    "python": {
     "delete_cmd_postfix": "",
     "delete_cmd_prefix": "del ",
     "library": "var_list.py",
     "varRefreshCmd": "print(var_dic_list())"
    },
    "r": {
     "delete_cmd_postfix": ") ",
     "delete_cmd_prefix": "rm(",
     "library": "var_list.r",
     "varRefreshCmd": "cat(var_dic_list()) "
    }
   },
   "types_to_exclude": [
    "module",
    "function",
    "builtin_function_or_method",
    "instance",
    "_Feature"
   ],
   "window_display": false
  }
 },
 "nbformat": 4,
 "nbformat_minor": 2
}
