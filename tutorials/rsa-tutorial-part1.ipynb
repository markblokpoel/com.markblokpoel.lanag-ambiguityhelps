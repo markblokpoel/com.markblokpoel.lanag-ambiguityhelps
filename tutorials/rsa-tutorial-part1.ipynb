{
 "cells": [
  {
   "cell_type": "markdown",
   "metadata": {},
   "source": [
    "# Interactive simulation tutorial part 1: RSA\n",
    "\n",
    "This tutorial is intended to give an introduction to Rational Speech Act (RSA) agents within the Lanag simulation framework. It is part of the Supplementary Information for *submitted*, which we will refer to as the *main paper*.\n",
    "\n",
    "## 1. Loading libraries\n",
    "First we need to load some libraries."
   ]
  },
  {
   "cell_type": "code",
   "execution_count": 1,
   "metadata": {
    "scrolled": true
   },
   "outputs": [
    {
     "data": {
      "text/plain": [
       "\u001b[32mimport \u001b[39m\u001b[36m$ivy.$                                   \n",
       "\u001b[39m"
      ]
     },
     "execution_count": 1,
     "metadata": {},
     "output_type": "execute_result"
    }
   ],
   "source": [
    "import $ivy.`com.markblokpoel::lanag-core:0.3.2`\n",
    "interp.load.cp(new java.net.URL(\"https://github.com/markblokpoel/lanag-ambiguityhelps/blob/jupyternotebooks/binaries/lanag-ambiguityhelps-0.1.jar?raw=true\"))"
   ]
  },
  {
   "cell_type": "code",
   "execution_count": 2,
   "metadata": {},
   "outputs": [
    {
     "data": {
      "text/plain": [
       "\u001b[32mimport \u001b[39m\u001b[36mcom.markblokpoel.lanag.rsa.Lexicon\n",
       "\u001b[39m\n",
       "\u001b[32mimport \u001b[39m\u001b[36mcom.markblokpoel.lanag.ambiguityhelps.{RSA1ShotAgent, RSA1ShotInteraction}\u001b[39m"
      ]
     },
     "execution_count": 2,
     "metadata": {},
     "output_type": "execute_result"
    }
   ],
   "source": [
    "import com.markblokpoel.lanag.rsa.Lexicon\n",
    "import com.markblokpoel.lanag.ambiguityhelps.{RSA1ShotAgent, RSA1ShotInteraction}"
   ]
  },
  {
   "cell_type": "markdown",
   "metadata": {},
   "source": [
    "### 1.1 Helper functions\n",
    "These are functions I may want to add to the lanag-core library."
   ]
  },
  {
   "cell_type": "code",
   "execution_count": 3,
   "metadata": {},
   "outputs": [
    {
     "data": {
      "text/plain": [
       "defined \u001b[32mfunction\u001b[39m \u001b[36mlex2md\u001b[39m\n",
       "defined \u001b[32mobject\u001b[39m \u001b[36mReferentialIntention\u001b[39m"
      ]
     },
     "execution_count": 3,
     "metadata": {},
     "output_type": "execute_result"
    }
   ],
   "source": [
    "def lex2md(l: Lexicon): String = {\n",
    "    val vs = l.vocabularySize\n",
    "    val cs = l.contextSize\n",
    "    \n",
    "    var output = \"\"\n",
    "    for(v <- -1 until vs) {\n",
    "        for(c <- -1 until cs) {\n",
    "            if(c < 0 && v < 0) output += \"|&nbsp;|\"\n",
    "            else if (c < 0) output += \"|$S_\"+v+\"$|\"\n",
    "            else if (v < 0) {\n",
    "                output += \"$C_\"+c+\"$|\"\n",
    "                if(c==cs-1) output += \"\\n\"+ ((0 until 3).map(_ => \"|--\").mkString+\"|\")\n",
    "            } else output += l(v,c)+\"|\"\n",
    "        }\n",
    "        output += \"\\n\"\n",
    "    }\n",
    "    output\n",
    "}\n",
    "\n",
    "case object ReferentialIntention {\n",
    "  def apply(content: Int): com.markblokpoel.lanag.core.ReferentialIntention = com.markblokpoel.lanag.core.ReferentialIntention(Some(content))\n",
    "}"
   ]
  },
  {
   "cell_type": "markdown",
   "metadata": {},
   "source": [
    "## 2. RSA agent\n",
    "\n",
    "In the Rational Speech Act model, an agent’s lexicon is defined by a (possibly) graded mapping between a set of signals and a set of referents. This mapping is encoded in a matrix, where each column represents a referent, and each row represents a signal. An agent is defined by its matrix and its order of pragmatic inference.\n",
    "\n",
    "In this tutorial we will follow the example from the main paper *submitted* about two friends (`friend1` and `friend2`) talking about two classmates whos names they may not know. The snippet below illustrates how a zero order agent can be defined. This agent has a vocabulary $V=\\{\\text{red hair},\\text{tall one},\\text{gamer}\\}$ and a referent set $R=\\{\\text{Nora},\\text{Asla}\\}$. You will notice that the labels of the signals and referents are not present in the simulation code, as these are for our current purpose not important.\n",
    "\n",
    "| &nbsp; |  Nora  |  Asla |\n",
    "|---|--------|-------|\n",
    "| *red hair* | 1 | 0 |\n",
    "| *tall one* | 0 | 1 |\n",
    "| *gamer*    | 1 | 1 |"
   ]
  },
  {
   "cell_type": "code",
   "execution_count": 4,
   "metadata": {},
   "outputs": [
    {
     "data": {
      "text/plain": [
       "\u001b[36mmapping\u001b[39m: \u001b[32mVector\u001b[39m[\u001b[32mVector\u001b[39m[\u001b[32mDouble\u001b[39m]] = \u001b[33mVector\u001b[39m(\n",
       "  \u001b[33mVector\u001b[39m(\u001b[32m1.0\u001b[39m, \u001b[32m0.0\u001b[39m),\n",
       "  \u001b[33mVector\u001b[39m(\u001b[32m0.0\u001b[39m, \u001b[32m1.0\u001b[39m),\n",
       "  \u001b[33mVector\u001b[39m(\u001b[32m1.0\u001b[39m, \u001b[32m1.0\u001b[39m)\n",
       ")\n",
       "\u001b[36mlexicon\u001b[39m: \u001b[32mLexicon\u001b[39m = \u001b[33mLexicon\u001b[39m(\u001b[32m3\u001b[39m, \u001b[32m2\u001b[39m, \u001b[33mVector\u001b[39m(\u001b[32m1.0\u001b[39m, \u001b[32m0.0\u001b[39m, \u001b[32m0.0\u001b[39m, \u001b[32m1.0\u001b[39m, \u001b[32m1.0\u001b[39m, \u001b[32m1.0\u001b[39m))\n",
       "\u001b[36mfriend1\u001b[39m: \u001b[32mRSA1ShotAgent\u001b[39m = Agent with order 0\n",
       "1.0\t0.0\t\n",
       "0.0\t1.0\t\n",
       "1.0\t1.0\t\n"
      ]
     },
     "execution_count": 4,
     "metadata": {},
     "output_type": "execute_result"
    }
   ],
   "source": [
    "val mapping = Vector[Vector[Double]](\n",
    "  Vector(1,0),\n",
    "  Vector(0,1),\n",
    "  Vector(1,1)\n",
    ")\n",
    "val lexicon = Lexicon(mapping)\n",
    "val friend1 = new RSA1ShotAgent(lexicon, order = 0)"
   ]
  },
  {
   "cell_type": "code",
   "execution_count": 5,
   "metadata": {},
   "outputs": [
    {
     "data": {
      "text/markdown": [
       "\n",
       "**Viewing a lexicon**\n",
       "\n",
       "`friend 1`'s lexicon can be viewed as a table.\n",
       "\n",
       "|&nbsp;|$C_0$|$C_1$|\n",
       "|--|--|--|\n",
       "|$S_0$|1.0|0.0|\n",
       "|$S_1$|0.0|1.0|\n",
       "|$S_2$|1.0|1.0|\n",
       "\n"
      ]
     },
     "metadata": {},
     "output_type": "display_data"
    }
   ],
   "source": [
    "Markdown(s\"\"\"\n",
    "**Viewing a lexicon**\n",
    "\n",
    "`friend 1`'s lexicon can be viewed as a table.\n",
    "\n",
    "${lex2md(friend1.originalLexicon)}\n",
    "\"\"\")"
   ]
  },
  {
   "cell_type": "markdown",
   "metadata": {},
   "source": [
    "To get the agent to engage its pragmatic reasoning capacity, we need to tell the simulation framework if the agent is a speaker or a listener. This is done by calling the function `.asSpeaker` or `.asListener` on the object which return a new object where the agent is a speaker or listener. This will internally perform pragmatic inference (based on RSA, see Formulas~1-6 in the main paper) at the specified order to compute a conditional probability mapping. This mapping can be accessed with `.inferredLexicon`.\n",
    "\n",
    "*If you are running this notebook interactively, you can play around with the map and the order to see how this changes the conditional probability mapping. For example, try setting order to 1 and then 2 or change the agent’s lexicon.*"
   ]
  },
  {
   "cell_type": "code",
   "execution_count": 6,
   "metadata": {},
   "outputs": [
    {
     "data": {
      "text/plain": [
       "\u001b[36mfriend1AsListener\u001b[39m: \u001b[32mcom\u001b[39m.\u001b[32mmarkblokpoel\u001b[39m.\u001b[32mlanag\u001b[39m.\u001b[32mambiguityhelps\u001b[39m.\u001b[32mRSA1ShotListener\u001b[39m = \u001b[33mRSA1ShotListener\u001b[39m(\n",
       "  \u001b[33mLexicon\u001b[39m(\u001b[32m3\u001b[39m, \u001b[32m2\u001b[39m, \u001b[33mVector\u001b[39m(\u001b[32m1.0\u001b[39m, \u001b[32m0.0\u001b[39m, \u001b[32m0.0\u001b[39m, \u001b[32m1.0\u001b[39m, \u001b[32m1.0\u001b[39m, \u001b[32m1.0\u001b[39m)),\n",
       "  \u001b[32m0\u001b[39m\n",
       ")\n",
       "\u001b[36mfriend1AsSpeaker\u001b[39m: \u001b[32mcom\u001b[39m.\u001b[32mmarkblokpoel\u001b[39m.\u001b[32mlanag\u001b[39m.\u001b[32mambiguityhelps\u001b[39m.\u001b[32mRSA1ShotSpeaker\u001b[39m = \u001b[33mRSA1ShotSpeaker\u001b[39m(\n",
       "  \u001b[33mLexicon\u001b[39m(\u001b[32m3\u001b[39m, \u001b[32m2\u001b[39m, \u001b[33mVector\u001b[39m(\u001b[32m1.0\u001b[39m, \u001b[32m0.0\u001b[39m, \u001b[32m0.0\u001b[39m, \u001b[32m1.0\u001b[39m, \u001b[32m1.0\u001b[39m, \u001b[32m1.0\u001b[39m)),\n",
       "  \u001b[32m0\u001b[39m\n",
       ")"
      ]
     },
     "execution_count": 6,
     "metadata": {},
     "output_type": "execute_result"
    }
   ],
   "source": [
    "val friend1AsListener = friend1.asListener\n",
    "val friend1AsSpeaker = friend1.asSpeaker"
   ]
  },
  {
   "cell_type": "markdown",
   "metadata": {},
   "source": [
    "## 2.1 Zero order speaker and communicator\n",
    "\n",
    "`friend1`'s zero order inferred lexicon consists of\n",
    "probability distributions for signals over referents. For order zero this\n",
    "is computed by normalizing over rows."
   ]
  },
  {
   "cell_type": "code",
   "execution_count": 7,
   "metadata": {},
   "outputs": [
    {
     "data": {
      "text/markdown": [
       "|&nbsp;|$C_0$|$C_1$|\n",
       "|--|--|--|\n",
       "|$S_0$|1.0|0.0|\n",
       "|$S_1$|0.0|1.0|\n",
       "|$S_2$|0.5|0.5|\n"
      ]
     },
     "metadata": {},
     "output_type": "display_data"
    }
   ],
   "source": [
    "Markdown(s\"${lex2md(friend1AsListener.inferredLexicon)}\")"
   ]
  },
  {
   "cell_type": "markdown",
   "metadata": {},
   "source": [
    "For speakers, the inferred lexicon consists of distributions over signals. It is computed by normalizing over columns. Here is `friend§`'s inferred lexicon at order zero."
   ]
  },
  {
   "cell_type": "code",
   "execution_count": 8,
   "metadata": {},
   "outputs": [
    {
     "data": {
      "text/markdown": [
       "|&nbsp;|$C_0$|$C_1$|\n",
       "|--|--|--|\n",
       "|$S_0$|0.5|0.0|\n",
       "|$S_1$|0.0|0.5|\n",
       "|$S_2$|0.5|0.5|\n"
      ]
     },
     "metadata": {},
     "output_type": "display_data"
    }
   ],
   "source": [
    "Markdown(s\"${lex2md(friend1AsSpeaker.inferredLexicon)}\")"
   ]
  },
  {
   "cell_type": "markdown",
   "metadata": {},
   "source": [
    "## 2.2 Producing a signal\n",
    "Let's make `friend1` communicate a selected intention using `.produceSignal(.)`. This function returns two objects, the selected signal and some data. We will ignore the data for now. In a moment, we will create a friend that will try to intepret the signal."
   ]
  },
  {
   "cell_type": "code",
   "execution_count": 9,
   "metadata": {},
   "outputs": [
    {
     "data": {
      "text/plain": [
       "\u001b[36mintention\u001b[39m: \u001b[32mInt\u001b[39m = \u001b[32m0\u001b[39m\n",
       "\u001b[36mspeaker\u001b[39m: \u001b[32mcom\u001b[39m.\u001b[32mmarkblokpoel\u001b[39m.\u001b[32mlanag\u001b[39m.\u001b[32mambiguityhelps\u001b[39m.\u001b[32mRSA1ShotSpeaker\u001b[39m = \u001b[33mRSA1ShotSpeaker\u001b[39m(\n",
       "  \u001b[33mLexicon\u001b[39m(\u001b[32m3\u001b[39m, \u001b[32m2\u001b[39m, \u001b[33mVector\u001b[39m(\u001b[32m1.0\u001b[39m, \u001b[32m0.0\u001b[39m, \u001b[32m0.0\u001b[39m, \u001b[32m1.0\u001b[39m, \u001b[32m1.0\u001b[39m, \u001b[32m1.0\u001b[39m)),\n",
       "  \u001b[32m0\u001b[39m\n",
       ")\n",
       "\u001b[36mrefIntention\u001b[39m: \u001b[32mcom\u001b[39m.\u001b[32mmarkblokpoel\u001b[39m.\u001b[32mlanag\u001b[39m.\u001b[32mcore\u001b[39m.\u001b[32mReferentialIntention\u001b[39m = \u001b[33mReferentialIntention\u001b[39m(\n",
       "  \u001b[33mSome\u001b[39m(\u001b[32m0\u001b[39m)\n",
       ")\n",
       "\u001b[36msignal\u001b[39m: \u001b[32mcom\u001b[39m.\u001b[32mmarkblokpoel\u001b[39m.\u001b[32mlanag\u001b[39m.\u001b[32mcore\u001b[39m.\u001b[32mContentSignal\u001b[39m = \u001b[33mContentSignal\u001b[39m(\u001b[33mSome\u001b[39m(\u001b[32m2\u001b[39m))\n",
       "\u001b[36mdata\u001b[39m: \u001b[32mcom\u001b[39m.\u001b[32mmarkblokpoel\u001b[39m.\u001b[32mlanag\u001b[39m.\u001b[32mambiguityhelps\u001b[39m.\u001b[32mRSA1ShotDataStructures\u001b[39m.\u001b[32mSpeakerData\u001b[39m = \u001b[33mSpeakerData\u001b[39m(\u001b[33mSome\u001b[39m(\u001b[32m1.0\u001b[39m))"
      ]
     },
     "execution_count": 9,
     "metadata": {},
     "output_type": "execute_result"
    }
   ],
   "source": [
    "val intention = 0\n",
    "val speaker = friend1.asSpeaker\n",
    "val refIntention = ReferentialIntention(intention)\n",
    "val (signal, data) = speaker.produceSignal(refIntention)"
   ]
  },
  {
   "cell_type": "code",
   "execution_count": 10,
   "metadata": {},
   "outputs": [
    {
     "data": {
      "text/markdown": [
       "`friend1` communicates referent $R_0$ using signal $S_2$."
      ]
     },
     "metadata": {},
     "output_type": "display_data"
    }
   ],
   "source": [
    "Markdown(s\"`friend1` communicates referent $$R_$intention$$ using signal $$S_${signal.content.get}$$.\")"
   ]
  },
  {
   "cell_type": "markdown",
   "metadata": {},
   "source": [
    "### 2.2.1 How `produceSignal` works\n",
    "The function `produceSignal` does two things. First, it transforms an intention into a distribution over intentions $Pr(R)$, where the intention has probability 1. Next, it computes a posterior distribution over signals given a referent by computing the dot product between the distribution and the $n^\\text{th}$-order inferred lexicon. Then it selects a signal using the softmax function. Here, we set beta to infinite, always selecting the signal with the highest probability (or at random if multiple signals have highest probability)."
   ]
  },
  {
   "cell_type": "code",
   "execution_count": 11,
   "metadata": {},
   "outputs": [
    {
     "data": {
      "text/plain": [
       "\u001b[32mimport \u001b[39m\u001b[36mcom.markblokpoel.lanag.math.Probability.softArgMax\n",
       "\u001b[39m\n",
       "\u001b[36mintentionDistribution\u001b[39m: \u001b[32mVector\u001b[39m[\u001b[32mDouble\u001b[39m] = \u001b[33mVector\u001b[39m(\u001b[32m1.0\u001b[39m, \u001b[32m0.0\u001b[39m)\n",
       "\u001b[36mposteriorDistribution\u001b[39m: \u001b[32mVector\u001b[39m[\u001b[32mDouble\u001b[39m] = \u001b[33mVector\u001b[39m(\u001b[32m0.5\u001b[39m, \u001b[32m0.0\u001b[39m, \u001b[32m0.5\u001b[39m)\n",
       "\u001b[36mres10_3\u001b[39m: \u001b[32mOption\u001b[39m[\u001b[32mInt\u001b[39m] = \u001b[33mSome\u001b[39m(\u001b[32m0\u001b[39m)"
      ]
     },
     "execution_count": 11,
     "metadata": {},
     "output_type": "execute_result"
    }
   ],
   "source": [
    "import com.markblokpoel.lanag.math.Probability.softArgMax\n",
    "val intentionDistribution = Vector.tabulate(speaker.originalLexicon.contextSize)(n => if (n == intention) 1.0 else 0.0)\n",
    "val posteriorDistribution = speaker.inferredLexicon dot intentionDistribution\n",
    "softArgMax(posteriorDistribution, beta = Double.PositiveInfinity)"
   ]
  },
  {
   "cell_type": "markdown",
   "metadata": {},
   "source": [
    "### 2.2.2 Exploring speaker behaviour\n",
    "*This section assumes you are running this notebook interactively.*\n",
    "\n",
    "The lines of code below are all we need to explore `friend1`'s behaviour as a speaker. You can change the order of pragmatic reasoning and try different intentions to explore how they affect the speaker's inferred lexicon and produced signals.\n",
    "\n",
    "> You may have noticed objects `Option`, `Some` and `None` pop up in the code or results. This construct is used when a function may not be able to return a value. For example, calling `softArgMax` on an empty distribution will result in a `None`. To 'get' a value from an option-wrapped value, you can use `.get` or better `.getOrElse(x)`, where x is the returned value if called on `None`.\n",
    "\n",
    "\n",
    "Here are some questions to guide your exploration of speaker behaviour:\n",
    "\n",
    "1. What signal has the highest probability given that intention 0?\n",
    "\n",
    "2. If you run the same intention multiple times, does the outcome change and why?\n",
    "\n",
    "3. As a zero order agent, `friend1` cannot reason about the ambiguity in her lexicon and hence when multiple signal options are valid, she selects a signal at random from them. Try setting the order to 1 and observe how both the inferred lexicon and selected signals change.\n",
    "\n",
    "5. With `friend1` as a higher order speaker, try running the code multiple times with the same intention. Observe that for a higher order speaker with this particular lexicon, there is a clear better signal.\n"
   ]
  },
  {
   "cell_type": "code",
   "execution_count": 12,
   "metadata": {},
   "outputs": [
    {
     "data": {
      "text/markdown": [
       "\n",
       "**First production results**\n",
       "\n",
       "|&nbsp;|$C_0$|$C_1$|\n",
       "|--|--|--|\n",
       "|$S_0$|0.5|0.0|\n",
       "|$S_1$|0.0|0.5|\n",
       "|$S_2$|0.5|0.5|\n",
       " \n",
       "\n",
       "The selected signal is $S_2$.\n"
      ]
     },
     "metadata": {},
     "output_type": "display_data"
    },
    {
     "data": {
      "text/plain": [
       "\u001b[36mspeaker\u001b[39m: \u001b[32mcom\u001b[39m.\u001b[32mmarkblokpoel\u001b[39m.\u001b[32mlanag\u001b[39m.\u001b[32mambiguityhelps\u001b[39m.\u001b[32mRSA1ShotSpeaker\u001b[39m = \u001b[33mRSA1ShotSpeaker\u001b[39m(\n",
       "  \u001b[33mLexicon\u001b[39m(\u001b[32m3\u001b[39m, \u001b[32m2\u001b[39m, \u001b[33mVector\u001b[39m(\u001b[32m1.0\u001b[39m, \u001b[32m0.0\u001b[39m, \u001b[32m0.0\u001b[39m, \u001b[32m1.0\u001b[39m, \u001b[32m1.0\u001b[39m, \u001b[32m1.0\u001b[39m)),\n",
       "  \u001b[32m0\u001b[39m\n",
       ")\n",
       "\u001b[36msignal\u001b[39m: \u001b[32mcom\u001b[39m.\u001b[32mmarkblokpoel\u001b[39m.\u001b[32mlanag\u001b[39m.\u001b[32mcore\u001b[39m.\u001b[32mContentSignal\u001b[39m = \u001b[33mContentSignal\u001b[39m(\u001b[33mSome\u001b[39m(\u001b[32m2\u001b[39m))\n",
       "\u001b[36mdata\u001b[39m: \u001b[32mcom\u001b[39m.\u001b[32mmarkblokpoel\u001b[39m.\u001b[32mlanag\u001b[39m.\u001b[32mambiguityhelps\u001b[39m.\u001b[32mRSA1ShotDataStructures\u001b[39m.\u001b[32mSpeakerData\u001b[39m = \u001b[33mSpeakerData\u001b[39m(\u001b[33mSome\u001b[39m(\u001b[32m1.0\u001b[39m))"
      ]
     },
     "execution_count": 12,
     "metadata": {},
     "output_type": "execute_result"
    }
   ],
   "source": [
    "val speaker = friend1.withOrder(0).asSpeaker\n",
    "val (signal, data) = speaker.produceSignal(ReferentialIntention(0))\n",
    "\n",
    "Markdown(s\"\"\"\n",
    "**First production results**\n",
    "\n",
    "${lex2md(speaker.inferredLexicon)} \n",
    "\n",
    "The selected signal is $$S_${signal.content.get}$$.\n",
    "\"\"\")"
   ]
  },
  {
   "cell_type": "markdown",
   "metadata": {},
   "source": [
    "## 3. A second agent\n",
    "Let's create a partner for our friend creatively called `friend2`. For now, we give this agent the same lexicon as `friend1`, but it could be different."
   ]
  },
  {
   "cell_type": "code",
   "execution_count": 13,
   "metadata": {},
   "outputs": [
    {
     "data": {
      "text/plain": [
       "\u001b[36mfriend2\u001b[39m: \u001b[32mRSA1ShotAgent\u001b[39m = Agent with order 0\n",
       "1.0\t0.0\t\n",
       "0.0\t1.0\t\n",
       "1.0\t1.0\t\n"
      ]
     },
     "execution_count": 13,
     "metadata": {},
     "output_type": "execute_result"
    }
   ],
   "source": [
    "val friend2 = new RSA1ShotAgent(friend1.originalLexicon, order = 0)"
   ]
  },
  {
   "cell_type": "markdown",
   "metadata": {},
   "source": [
    "We will make `friend2` the listener of the two. Let’s see how `friend2` would interpret a signal generated by `friend1`."
   ]
  },
  {
   "cell_type": "code",
   "execution_count": 14,
   "metadata": {},
   "outputs": [
    {
     "data": {
      "text/markdown": [
       "\n",
       "**First communication result**\n",
       "\n",
       "`friend1` communicates referent $R_0$ using signal $S_0$.\n",
       "\n",
       "`friend2` infers referent $R_0$.\n",
       "\n",
       "**The agent's inferred lexicons**\n",
       "\n",
       "`friend1`*'s lexicon as speaker*\n",
       "\n",
       "|&nbsp;|$C_0$|$C_1$|\n",
       "|--|--|--|\n",
       "|$S_0$|0.5|0.0|\n",
       "|$S_1$|0.0|0.5|\n",
       "|$S_2$|0.5|0.5|\n",
       "\n",
       "\n",
       "`friend2`*'s lexicon as listener*\n",
       "\n",
       "|&nbsp;|$C_0$|$C_1$|\n",
       "|--|--|--|\n",
       "|$S_0$|1.0|0.0|\n",
       "|$S_1$|0.0|1.0|\n",
       "|$S_2$|0.5|0.5|\n",
       "\n"
      ]
     },
     "metadata": {},
     "output_type": "display_data"
    },
    {
     "data": {
      "text/plain": [
       "\u001b[36mlistener\u001b[39m: \u001b[32mcom\u001b[39m.\u001b[32mmarkblokpoel\u001b[39m.\u001b[32mlanag\u001b[39m.\u001b[32mambiguityhelps\u001b[39m.\u001b[32mRSA1ShotListener\u001b[39m = \u001b[33mRSA1ShotListener\u001b[39m(\n",
       "  \u001b[33mLexicon\u001b[39m(\u001b[32m3\u001b[39m, \u001b[32m2\u001b[39m, \u001b[33mVector\u001b[39m(\u001b[32m1.0\u001b[39m, \u001b[32m0.0\u001b[39m, \u001b[32m0.0\u001b[39m, \u001b[32m1.0\u001b[39m, \u001b[32m1.0\u001b[39m, \u001b[32m1.0\u001b[39m)),\n",
       "  \u001b[32m0\u001b[39m\n",
       ")\n",
       "\u001b[36mspeaker\u001b[39m: \u001b[32mcom\u001b[39m.\u001b[32mmarkblokpoel\u001b[39m.\u001b[32mlanag\u001b[39m.\u001b[32mambiguityhelps\u001b[39m.\u001b[32mRSA1ShotSpeaker\u001b[39m = \u001b[33mRSA1ShotSpeaker\u001b[39m(\n",
       "  \u001b[33mLexicon\u001b[39m(\u001b[32m3\u001b[39m, \u001b[32m2\u001b[39m, \u001b[33mVector\u001b[39m(\u001b[32m1.0\u001b[39m, \u001b[32m0.0\u001b[39m, \u001b[32m0.0\u001b[39m, \u001b[32m1.0\u001b[39m, \u001b[32m1.0\u001b[39m, \u001b[32m1.0\u001b[39m)),\n",
       "  \u001b[32m0\u001b[39m\n",
       ")\n",
       "\u001b[36mintention\u001b[39m: \u001b[32mInt\u001b[39m = \u001b[32m0\u001b[39m\n",
       "\u001b[36msignal\u001b[39m: \u001b[32mcom\u001b[39m.\u001b[32mmarkblokpoel\u001b[39m.\u001b[32mlanag\u001b[39m.\u001b[32mcore\u001b[39m.\u001b[32mContentSignal\u001b[39m = \u001b[33mContentSignal\u001b[39m(\u001b[33mSome\u001b[39m(\u001b[32m0\u001b[39m))\n",
       "\u001b[36minferredIntention\u001b[39m: \u001b[32mcom\u001b[39m.\u001b[32mmarkblokpoel\u001b[39m.\u001b[32mlanag\u001b[39m.\u001b[32mcore\u001b[39m.\u001b[32mReferentialIntention\u001b[39m = \u001b[33mReferentialIntention\u001b[39m(\n",
       "  \u001b[33mSome\u001b[39m(\u001b[32m0\u001b[39m)\n",
       ")"
      ]
     },
     "execution_count": 14,
     "metadata": {},
     "output_type": "execute_result"
    }
   ],
   "source": [
    "val listener = friend2.withOrder(0).asListener\n",
    "val speaker = friend1.withOrder(0).asSpeaker\n",
    "val intention = 0\n",
    "val (signal,_) = speaker.produceSignal(ReferentialIntention(intention))\n",
    "val (inferredIntention,_) = listener.interpretSignal(signal)\n",
    "\n",
    "Markdown(s\"\"\"\n",
    "**First communication result**\n",
    "\n",
    "`friend1` communicates referent $$R_$intention$$ using signal $$S_${signal.content.get}$$.\n",
    "\n",
    "`friend2` infers referent $$R_${inferredIntention.content.get}$$.\n",
    "\n",
    "**The agent's inferred lexicons**\n",
    "\n",
    "`friend1`*'s lexicon as speaker*\n",
    "\n",
    "${lex2md(speaker.inferredLexicon)}\n",
    "\n",
    "`friend2`*'s lexicon as listener*\n",
    "\n",
    "${lex2md(listener.inferredLexicon)}\n",
    "\"\"\")"
   ]
  },
  {
   "cell_type": "markdown",
   "metadata": {},
   "source": [
    "With two zero-order communicators, there is more chance for misunderstanding. If you run the example multiple times you can observe this.\n",
    "\n",
    "You can again try to play around with the parameters:\n",
    "\n",
    "1. Try setting the order to 1 and see what happens. Can both agents successfully disambiguate their lexicons?\n",
    "\n",
    "2. Try setting the order to 2 or 4, does this help over and above 1st order?"
   ]
  },
  {
   "cell_type": "markdown",
   "metadata": {},
   "source": [
    "## 4. Interaction\n",
    "The simulation framework provide an architecture for two agents to communicate. Below is example code how to set up such an interaction, simulate it and print the data. There is some redundancy with the code above for completeness sake of the example.\n",
    "\n",
    "First we create two agents, each with their own lexicon. Note that the example lexicons are now different, you can play around with them too. Add more signals, more referents, change the relationships and see how this affects the interaction."
   ]
  },
  {
   "cell_type": "code",
   "execution_count": 15,
   "metadata": {},
   "outputs": [
    {
     "data": {
      "text/plain": [
       "\u001b[36mlexicon1\u001b[39m: \u001b[32mLexicon\u001b[39m = \u001b[33mLexicon\u001b[39m(\u001b[32m3\u001b[39m, \u001b[32m2\u001b[39m, \u001b[33mVector\u001b[39m(\u001b[32m1.0\u001b[39m, \u001b[32m0.0\u001b[39m, \u001b[32m0.0\u001b[39m, \u001b[32m1.0\u001b[39m, \u001b[32m1.0\u001b[39m, \u001b[32m1.0\u001b[39m))\n",
       "\u001b[36mfriend1\u001b[39m: \u001b[32mRSA1ShotAgent\u001b[39m = Agent with order 0\n",
       "1.0\t0.0\t\n",
       "0.0\t1.0\t\n",
       "1.0\t1.0\t\n",
       "\n",
       "\u001b[36mlexicon2\u001b[39m: \u001b[32mLexicon\u001b[39m = \u001b[33mLexicon\u001b[39m(\u001b[32m3\u001b[39m, \u001b[32m2\u001b[39m, \u001b[33mVector\u001b[39m(\u001b[32m1.0\u001b[39m, \u001b[32m0.0\u001b[39m, \u001b[32m1.0\u001b[39m, \u001b[32m1.0\u001b[39m, \u001b[32m0.0\u001b[39m, \u001b[32m1.0\u001b[39m))\n",
       "\u001b[36mfriend2\u001b[39m: \u001b[32mRSA1ShotAgent\u001b[39m = Agent with order 0\n",
       "1.0\t0.0\t\n",
       "1.0\t1.0\t\n",
       "0.0\t1.0\t\n"
      ]
     },
     "execution_count": 15,
     "metadata": {},
     "output_type": "execute_result"
    }
   ],
   "source": [
    "val lexicon1 = Lexicon(\n",
    "    Vector[Vector[Double]](\n",
    "        Vector(1,0),\n",
    "        Vector(0,1),\n",
    "        Vector(1,1)\n",
    "))\n",
    "val friend1 = new RSA1ShotAgent(lexicon1, order = 0)\n",
    "\n",
    "val lexicon2 = Lexicon(\n",
    "    Vector[Vector[Double]](\n",
    "        Vector(1,0),\n",
    "        Vector(1,1),\n",
    "        Vector(0,1)\n",
    "))\n",
    "val friend2 = new RSA1ShotAgent(lexicon2, order = 0)"
   ]
  },
  {
   "cell_type": "markdown",
   "metadata": {},
   "source": [
    "With these two agents, we can set up a repeated 1-shot interaction between them. Here, they will take turns as speaker and listener where they will try to communicate a randomly selected intention each turn. Running the interaction will return a dataset that contains information regarding the interaction between the two agents. The more complex code below is just to extract the data for display. For more information on the contents of the dataset, we refer to the API documentation on [`RSA1InteractionData`](https://markblokpoel.github.io/lanag-ambiguityhelps/latest/api/com/markblokpoel/lanag/ambiguityhelps/RSA1ShotDataStructures$$RSA1InteractionData.html)."
   ]
  },
  {
   "cell_type": "code",
   "execution_count": 16,
   "metadata": {},
   "outputs": [
    {
     "data": {
      "text/markdown": [
       "\n",
       "### Simulation results\n",
       "\n",
       "|Variable|Value|\n",
       "|---|---|\n",
       "|`friend1`'s ambiguity|1.3333333333333333|\n",
       "|`friend2`'s ambiguity|1.3333333333333333|\n",
       "|`friend1`'s order|0|\n",
       "|`friend2`'s order|0|\n",
       "|asymmetry | 0.3333333333333333\n",
       "|mean success|90.0%|\n",
       "|number of rounds|10|\n"
      ]
     },
     "metadata": {},
     "output_type": "display_data"
    },
    {
     "data": {
      "text/markdown": [
       "\n",
       "### Inferred lexicons, even rounds\n",
       "\n",
       "`friend1` as Speaker\n",
       "\n",
       "|&nbsp;|$C_0$|$C_1$|\n",
       "|--|--|--|\n",
       "|$S_0$|0.5|0.0|\n",
       "|$S_1$|0.0|0.5|\n",
       "|$S_2$|0.5|0.5|\n",
       " \n",
       "\n",
       "`friend2` as Listener\n",
       "\n",
       "|&nbsp;|$C_0$|$C_1$|\n",
       "|--|--|--|\n",
       "|$S_0$|1.0|0.0|\n",
       "|$S_1$|0.5|0.5|\n",
       "|$S_2$|0.0|1.0|\n",
       "\n",
       "\n",
       "### Inferred lexicons, odd rounds\n",
       "\n",
       "`friend2` as Speaker\n",
       "\n",
       "|&nbsp;|$C_0$|$C_1$|\n",
       "|--|--|--|\n",
       "|$S_0$|0.5|0.0|\n",
       "|$S_1$|0.5|0.5|\n",
       "|$S_2$|0.0|0.5|\n",
       "\n",
       "\n",
       "`friend1` as Listener\n",
       "\n",
       "|&nbsp;|$C_0$|$C_1$|\n",
       "|--|--|--|\n",
       "|$S_0$|1.0|0.0|\n",
       "|$S_1$|0.0|1.0|\n",
       "|$S_2$|0.5|0.5|\n",
       "\n"
      ]
     },
     "metadata": {},
     "output_type": "display_data"
    },
    {
     "data": {
      "text/plain": [
       "\u001b[36minteraction\u001b[39m: \u001b[32mRSA1ShotInteraction\u001b[39m = \u001b[33mRSA1ShotInteraction\u001b[39m(\n",
       "  Agent with order 0\n",
       "1.0\t0.0\t\n",
       "0.0\t1.0\t\n",
       "1.0\t1.0\t\n",
       ",\n",
       "  Agent with order 0\n",
       "1.0\t0.0\t\n",
       "1.0\t1.0\t\n",
       "0.0\t1.0\t\n",
       ",\n",
       "  \u001b[33mRSA1OriginData\u001b[39m(\u001b[32mNaN\u001b[39m, \u001b[32mNaN\u001b[39m, \u001b[32mNaN\u001b[39m, \u001b[32mNaN\u001b[39m),\n",
       "  \u001b[32m1L\u001b[39m,\n",
       "  \u001b[32m10\u001b[39m\n",
       ")\n",
       "\u001b[36mdata\u001b[39m: \u001b[32mcom\u001b[39m.\u001b[32mmarkblokpoel\u001b[39m.\u001b[32mlanag\u001b[39m.\u001b[32mambiguityhelps\u001b[39m.\u001b[32mRSA1ShotDataStructures\u001b[39m.\u001b[32mRSA1InteractionData\u001b[39m = \u001b[33mRSA1InteractionData\u001b[39m(\n",
       "  \u001b[32m1L\u001b[39m,\n",
       "  \u001b[32m0\u001b[39m,\n",
       "  \u001b[32m0\u001b[39m,\n",
       "  \u001b[32m1.3333333333333333\u001b[39m,\n",
       "  \u001b[32m0.2222222222222222\u001b[39m,\n",
       "  \u001b[32m1.3333333333333333\u001b[39m,\n",
       "  \u001b[32m0.2222222222222222\u001b[39m,\n",
       "  \u001b[32m0.3333333333333333\u001b[39m,\n",
       "  \u001b[33mRSA1OriginData\u001b[39m(\u001b[32mNaN\u001b[39m, \u001b[32mNaN\u001b[39m, \u001b[32mNaN\u001b[39m, \u001b[32mNaN\u001b[39m),\n",
       "  \u001b[33mList\u001b[39m(\n",
       "    \u001b[33mRSA1TurnData\u001b[39m(\u001b[32m0\u001b[39m, true, \u001b[33mSpeakerData\u001b[39m(\u001b[33mSome\u001b[39m(\u001b[32m1.0\u001b[39m)), \u001b[33mListenerData\u001b[39m(\u001b[33mSome\u001b[39m(\u001b[32m0.0\u001b[39m))),\n",
       "    \u001b[33mRSA1TurnData\u001b[39m(\u001b[32m1\u001b[39m, true, \u001b[33mSpeakerData\u001b[39m(\u001b[33mSome\u001b[39m(\u001b[32m1.0\u001b[39m)), \u001b[33mListenerData\u001b[39m(\u001b[33mSome\u001b[39m(\u001b[32m0.0\u001b[39m))),\n",
       "    \u001b[33mRSA1TurnData\u001b[39m(\u001b[32m2\u001b[39m, true, \u001b[33mSpeakerData\u001b[39m(\u001b[33mSome\u001b[39m(\u001b[32m1.0\u001b[39m)), \u001b[33mListenerData\u001b[39m(\u001b[33mSome\u001b[39m(\u001b[32m0.0\u001b[39m))),\n",
       "    \u001b[33mRSA1TurnData\u001b[39m(\u001b[32m3\u001b[39m, true, \u001b[33mSpeakerData\u001b[39m(\u001b[33mSome\u001b[39m(\u001b[32m1.0\u001b[39m)), \u001b[33mListenerData\u001b[39m(\u001b[33mSome\u001b[39m(\u001b[32m0.0\u001b[39m))),\n",
       "    \u001b[33mRSA1TurnData\u001b[39m(\u001b[32m4\u001b[39m, false, \u001b[33mSpeakerData\u001b[39m(\u001b[33mSome\u001b[39m(\u001b[32m1.0\u001b[39m)), \u001b[33mListenerData\u001b[39m(\u001b[33mSome\u001b[39m(\u001b[32m0.0\u001b[39m))),\n",
       "    \u001b[33mRSA1TurnData\u001b[39m(\u001b[32m5\u001b[39m, true, \u001b[33mSpeakerData\u001b[39m(\u001b[33mSome\u001b[39m(\u001b[32m1.0\u001b[39m)), \u001b[33mListenerData\u001b[39m(\u001b[33mSome\u001b[39m(\u001b[32m0.0\u001b[39m))),\n",
       "    \u001b[33mRSA1TurnData\u001b[39m(\u001b[32m6\u001b[39m, true, \u001b[33mSpeakerData\u001b[39m(\u001b[33mSome\u001b[39m(\u001b[32m1.0\u001b[39m)), \u001b[33mListenerData\u001b[39m(\u001b[33mSome\u001b[39m(\u001b[32m1.0\u001b[39m))),\n",
       "    \u001b[33mRSA1TurnData\u001b[39m(\u001b[32m7\u001b[39m, true, \u001b[33mSpeakerData\u001b[39m(\u001b[33mSome\u001b[39m(\u001b[32m1.0\u001b[39m)), \u001b[33mListenerData\u001b[39m(\u001b[33mSome\u001b[39m(\u001b[32m0.0\u001b[39m))),\n",
       "    \u001b[33mRSA1TurnData\u001b[39m(\u001b[32m8\u001b[39m, true, \u001b[33mSpeakerData\u001b[39m(\u001b[33mSome\u001b[39m(\u001b[32m1.0\u001b[39m)), \u001b[33mListenerData\u001b[39m(\u001b[33mSome\u001b[39m(\u001b[32m0.0\u001b[39m))),\n",
       "    \u001b[33mRSA1TurnData\u001b[39m(\u001b[32m9\u001b[39m, true, \u001b[33mSpeakerData\u001b[39m(\u001b[33mSome\u001b[39m(\u001b[32m1.0\u001b[39m)), \u001b[33mListenerData\u001b[39m(\u001b[33mSome\u001b[39m(\u001b[32m1.0\u001b[39m)))\n",
       "  )\n",
       ")"
      ]
     },
     "execution_count": 16,
     "metadata": {},
     "output_type": "execute_result"
    }
   ],
   "source": [
    "val interaction = new RSA1ShotInteraction(friend1.withOrder(0), friend2.withOrder(0), maxTurns=10)\n",
    "val data = interaction.runAndCollectData\n",
    "\n",
    "Markdown(s\"\"\"\n",
    "### Simulation results\n",
    "\n",
    "|Variable|Value|\n",
    "|---|---|\n",
    "|`friend1`'s ambiguity|${data.agent1AmbiguityMean}|\n",
    "|`friend2`'s ambiguity|${data.agent2AmbiguityMean}|\n",
    "|`friend1`'s order|${data.agent1Order}|\n",
    "|`friend2`'s order|${data.agent2Order}|\n",
    "|asymmetry | ${friend1.originalLexicon.asymmetryWith(friend2.originalLexicon)}\n",
    "|mean success|${data.interaction.count(d => d.success)/data.interaction.length.toDouble*100}%|\n",
    "|number of rounds|${data.interaction.length}|\n",
    "\"\"\")\n",
    "\n",
    "Markdown(s\"\"\"\n",
    "### Inferred lexicons, even rounds\n",
    "\n",
    "`friend1` as Speaker\n",
    "\n",
    "${lex2md(interaction.agent1AsSpeaker.inferredLexicon)} \n",
    "\n",
    "`friend2` as Listener\n",
    "\n",
    "${lex2md(interaction.agent2AsListener.inferredLexicon)}\n",
    "\n",
    "### Inferred lexicons, odd rounds\n",
    "\n",
    "`friend2` as Speaker\n",
    "\n",
    "${lex2md(interaction.agent2AsSpeaker.inferredLexicon)}\n",
    "\n",
    "`friend1` as Listener\n",
    "\n",
    "${lex2md(interaction.agent1AsListener.inferredLexicon)}\n",
    "\"\"\")"
   ]
  }
 ],
 "metadata": {
  "kernelspec": {
   "display_name": "Scala 2.12",
   "language": "scala",
   "name": "scala212"
  },
  "language_info": {
   "codemirror_mode": "text/x-scala",
   "file_extension": ".scala",
   "mimetype": "text/x-scala",
   "name": "scala",
   "nbconvert_exporter": "script",
   "version": "2.12.8"
  },
  "latex_envs": {
   "LaTeX_envs_menu_present": true,
   "autoclose": false,
   "autocomplete": true,
   "bibliofile": "biblio.bib",
   "cite_by": "apalike",
   "current_citInitial": 1,
   "eqLabelWithNumbers": true,
   "eqNumInitial": 1,
   "hotkeys": {
    "equation": "Ctrl-E",
    "itemize": "Ctrl-I"
   },
   "labels_anchors": false,
   "latex_user_defs": false,
   "report_style_numbering": false,
   "user_envs_cfg": false
  },
  "varInspector": {
   "cols": {
    "lenName": 16,
    "lenType": 16,
    "lenVar": 40
   },
   "kernels_config": {
    "python": {
     "delete_cmd_postfix": "",
     "delete_cmd_prefix": "del ",
     "library": "var_list.py",
     "varRefreshCmd": "print(var_dic_list())"
    },
    "r": {
     "delete_cmd_postfix": ") ",
     "delete_cmd_prefix": "rm(",
     "library": "var_list.r",
     "varRefreshCmd": "cat(var_dic_list()) "
    }
   },
   "types_to_exclude": [
    "module",
    "function",
    "builtin_function_or_method",
    "instance",
    "_Feature"
   ],
   "window_display": false
  }
 },
 "nbformat": 4,
 "nbformat_minor": 2
}
