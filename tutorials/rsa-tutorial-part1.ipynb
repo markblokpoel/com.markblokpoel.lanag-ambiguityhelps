{
 "cells": [
  {
   "cell_type": "markdown",
   "metadata": {},
   "source": [
    "## RSA Tutorial"
   ]
  },
  {
   "cell_type": "code",
   "execution_count": 1,
   "metadata": {},
   "outputs": [
    {
     "data": {
      "text/plain": [
       "\u001b[32mimport \u001b[39m\u001b[36m$ivy.$                                   \n",
       "\u001b[39m\n",
       "\u001b[32mimport \u001b[39m\u001b[36mcom.markblokpoel.lanag.rsa.Lexicon\n",
       "\u001b[39m\n",
       "\u001b[32mimport \u001b[39m\u001b[36mcom.markblokpoel.lanag.core.ReferentialIntention\u001b[39m"
      ]
     },
     "execution_count": 1,
     "metadata": {},
     "output_type": "execute_result"
    }
   ],
   "source": [
    "repl.pprinter() = repl.pprinter().copy(defaultHeight = 0)\n",
    "import $ivy.`com.markblokpoel::lanag-core:0.3.2`\n",
    "interp.load.cp(new java.net.URL(\"https://github.com/markblokpoel/lanag-ambiguityhelps/blob/jupyternotebooks/binaries/lanag-ambiguityhelps-0.1.jar?raw=true\"))\n",
    "import com.markblokpoel.lanag.rsa.Lexicon\n",
    "import com.markblokpoel.lanag.core.ReferentialIntention"
   ]
  },
  {
   "cell_type": "code",
   "execution_count": 2,
   "metadata": {},
   "outputs": [
    {
     "data": {
      "text/plain": [
       "\u001b[32mimport \u001b[39m\u001b[36mcom.markblokpoel.lanag.ambiguityhelps.{RSA1ShotAgent, RSA1ShotInteraction}\u001b[39m"
      ]
     },
     "execution_count": 2,
     "metadata": {},
     "output_type": "execute_result"
    }
   ],
   "source": [
    "import com.markblokpoel.lanag.ambiguityhelps.{RSA1ShotAgent, RSA1ShotInteraction}"
   ]
  },
  {
   "cell_type": "markdown",
   "metadata": {},
   "source": [
    "In the Rational Speech Act model, an agent’s lexicon is defined by a (possibly) graded mapping between a set of signals and a set of referents. This mapping is encoded in a matrix, where each column represents a referent, and each row represents a signal. An agent is defined by its matrix and its order of pragmatic inference. The snippet below illustrates how a zero order agent can be defined and we can print the agent to view its lexicon. "
   ]
  },
  {
   "cell_type": "code",
   "execution_count": 3,
   "metadata": {},
   "outputs": [
    {
     "name": "stdout",
     "output_type": "stream",
     "text": [
      "Agent with order 0\n",
      "1.0\t1.0\t0.0\t\n",
      "0.0\t1.0\t0.0\t\n",
      "0.0\t1.0\t1.0\t\n",
      "\n"
     ]
    },
    {
     "data": {
      "text/plain": [
       "......\n",
       "......\n",
       "......\n",
       "......"
      ]
     },
     "execution_count": 3,
     "metadata": {},
     "output_type": "execute_result"
    }
   ],
   "source": [
    "val map = Vector[Vector[Double]](\n",
    "  Vector(1,1,0),\n",
    "  Vector(0,1,0),\n",
    "  Vector(0,1,1)\n",
    ")\n",
    "\n",
    "val lexicon = Lexicon(map)\n",
    "val order = 0\n",
    "val smith = new RSA1ShotAgent(lexicon, order)\n",
    "\n",
    "println(smith)"
   ]
  },
  {
   "cell_type": "markdown",
   "metadata": {},
   "source": [
    "To get the agent to engage its pragmatic reasoning capacity, we need to tell the simulation framework if the agent is a speaker or a listener. This is done by calling the function .asSpeaker or .asListener to return the agent as a speaker or listener. It will internally perform pragmatic inference (based on RSA) at the defined order to compute a conditional probability mapping. We can view that conditional probability mapping by printing it. Play around with the map and the order to see how this changes the conditional probability mapping. For example, try setting order to 1 and then 2 or change the agent’s lexicon."
   ]
  },
  {
   "cell_type": "code",
   "execution_count": 4,
   "metadata": {},
   "outputs": [
    {
     "name": "stdout",
     "output_type": "stream",
     "text": [
      "\n",
      "Smith's zero order lexicon:\n",
      "1.0\t0.3333333333333333\t0.0\t\n",
      "0.0\t0.3333333333333333\t0.0\t\n",
      "0.0\t0.3333333333333333\t1.0\t\n",
      "\n"
     ]
    },
    {
     "data": {
      "text/plain": [
       "......\n",
       "......\n",
       "......\n",
       "......\n",
       "......"
      ]
     },
     "execution_count": 4,
     "metadata": {},
     "output_type": "execute_result"
    }
   ],
   "source": [
    "\n",
    "\n",
    "val map = Vector[Vector[Double]](\n",
    "  Vector(1,1,0),\n",
    "  Vector(0,1,0),\n",
    "  Vector(0,1,1)\n",
    ")\n",
    "val lexicon = Lexicon(map)\n",
    "val order = 0\n",
    "val smith = new RSA1ShotAgent(lexicon, order)\n",
    "\n",
    "val smithTheSpeaker = smith.asSpeaker\n",
    "\n",
    "println(\"\\nSmith's zero order lexicon:\\n\" + smithTheSpeaker.inferredLexicon)\n"
   ]
  },
  {
   "cell_type": "markdown",
   "metadata": {},
   "source": [
    "We can create a second agent called neo using the same lexicon as we used to construct smith. If we inspect neo’s conditional probability mapping as a listener, we can observe that it is different from smith’s as a speaker. This is because as a speaker, smith computes probability distributions per referent over all signals. As a listener, neo computes the other perspective, namely, probability distributions per signal over all referents."
   ]
  },
  {
   "cell_type": "code",
   "execution_count": 5,
   "metadata": {},
   "outputs": [
    {
     "name": "stdout",
     "output_type": "stream",
     "text": [
      "\n",
      "Smith's zero order lexicon:\n",
      "1.0\t0.3333333333333333\t0.0\t\n",
      "0.0\t0.3333333333333333\t0.0\t\n",
      "0.0\t0.3333333333333333\t1.0\t\n",
      "\n",
      "\n",
      "Neo's zero order lexicon:\n",
      "0.5\t0.5\t0.0\t\n",
      "0.0\t1.0\t0.0\t\n",
      "0.0\t0.5\t0.5\t\n",
      "\n"
     ]
    },
    {
     "data": {
      "text/plain": [
       "......\n",
       "......\n",
       "......\n",
       "......\n",
       "......\n",
       "......"
      ]
     },
     "execution_count": 5,
     "metadata": {},
     "output_type": "execute_result"
    }
   ],
   "source": [
    "val map = Vector[Vector[Double]](\n",
    "  Vector(1,1,0),\n",
    "  Vector(0,1,0),\n",
    "  Vector(0,1,1)\n",
    ")\n",
    "val lexicon = Lexicon(map)\n",
    "val order = 0\n",
    "val smith = new RSA1ShotAgent(lexicon, order)\n",
    "\n",
    "val smithTheSpeaker = smith.asSpeaker\n",
    "\n",
    "println(\"\\nSmith's zero order lexicon:\\n\" + smithTheSpeaker.inferredLexicon)\n",
    "\n",
    "val neoTheListener = new RSA1ShotAgent(lexicon, order).asListener\n",
    "\n",
    "println(\"\\nNeo's zero order lexicon:\\n\" + neoTheListener.inferredLexicon)"
   ]
  },
  {
   "cell_type": "markdown",
   "metadata": {},
   "source": [
    "Let’s have smith communicate something. We give it the intention to communicate referent 0 (represented by the first column). There are a few interesting things we can experiment with here:\n",
    "\n",
    "1. What signal has the highest probability given that intention?\n",
    "\n",
    "2. If you run the example multiple times, does the outcome change?\n",
    "\n",
    "3. Change smith’s intention to 1 (the middle column) and check the most likely signal smith produces. When you run this multiple times, does it change?\n",
    "\n",
    "4. As a zero order agent, smith cannot reason about the ambiguity in his lexicon and hence doesn’t care which signal it selects. Try setting the order to 1 and observe how both smith and neo’s mappings change (because they are now engaging in higher order pragmatic inference).\n",
    "\n",
    "5. Run the simulation multiple times. Now we can observe that smith consistently selects signal 1 because it is least ambiguous. This is because signal 0 is best interpreted by a listener to refer to referent 0 and signal 2 to refer to referent 2. Smith is reasoning through neo’s perspective."
   ]
  },
  {
   "cell_type": "code",
   "execution_count": 6,
   "metadata": {},
   "outputs": [
    {
     "name": "stdout",
     "output_type": "stream",
     "text": [
      "\n",
      "Smith's zero order lexicon:\n",
      "1.0\t0.3333333333333333\t0.0\t\n",
      "0.0\t0.3333333333333333\t0.0\t\n",
      "0.0\t0.3333333333333333\t1.0\t\n",
      "\n",
      "\n",
      "Neo's zero order lexicon:\n",
      "0.5\t0.5\t0.0\t\n",
      "0.0\t1.0\t0.0\t\n",
      "0.0\t0.5\t0.5\t\n",
      "\n",
      "\n",
      "Smith wants to communicate referent 0\n",
      "Smith computes that signal 0 is most likely to succeed.\n"
     ]
    },
    {
     "data": {
      "text/plain": [
       "......\n",
       "......\n",
       "......\n",
       "......\n",
       "......\n",
       "......\n",
       "......\n",
       "......\n",
       "......"
      ]
     },
     "execution_count": 6,
     "metadata": {},
     "output_type": "execute_result"
    }
   ],
   "source": [
    "val map = Vector[Vector[Double]](\n",
    "  Vector(1,1,0),\n",
    "  Vector(0,1,0),\n",
    "  Vector(0,1,1)\n",
    ")\n",
    "val lexicon = Lexicon(map)\n",
    "val order = 0\n",
    "val smith = new RSA1ShotAgent(lexicon, order)\n",
    "\n",
    "val smithTheSpeaker = smith.asSpeaker\n",
    "\n",
    "println(\"\\nSmith's zero order lexicon:\\n\" + smithTheSpeaker.inferredLexicon)\n",
    "\n",
    "val neoTheListener = new RSA1ShotAgent(lexicon, order).asListener\n",
    "\n",
    "println(\"\\nNeo's zero order lexicon:\\n\" + neoTheListener.inferredLexicon)\n",
    "\n",
    "\n",
    "\n",
    "val intention = 0\n",
    "println(\"\\nSmith wants to communicate referent \" + intention)\n",
    "\n",
    "val int = new ReferentialIntention(Option(intention))\n",
    "\n",
    "val mostProbableSignal = smithTheSpeaker.produceSignal(int)._1.content.get\n",
    "println(\"Smith computes that signal \" + mostProbableSignal + \" is most likely to succeed.\")"
   ]
  },
  {
   "cell_type": "markdown",
   "metadata": {},
   "source": [
    "Let’s see how neo would interpret smith’s signal. We get neo to infer the most likely referent given the observed signal. Observe that to neo, as a zero order listener, signal 0 is ambiguous and is equally likely to refer to referent 0 as it is to referent 1. If you run the simulation multiple times, you can observe that half of the time neo infers the correct referent, and half of the time it does not. We can again experiment:\n",
    "\n",
    "1. Try setting the order to 1 and see what happens. Can both agents successfully disambiguate their lexicons?\n",
    "\n",
    "2. Try setting the order to 2 or 4, does this help over and above 1st order?"
   ]
  },
  {
   "cell_type": "code",
   "execution_count": 7,
   "metadata": {},
   "outputs": [
    {
     "name": "stdout",
     "output_type": "stream",
     "text": [
      "\n",
      "Smith's zero order map:\n",
      "1.0\t0.3333333333333333\t0.0\t\n",
      "0.0\t0.3333333333333333\t0.0\t\n",
      "0.0\t0.3333333333333333\t1.0\t\n",
      "\n",
      "\n",
      "Neo's zero order map:\n",
      "0.5\t0.5\t0.0\t\n",
      "0.0\t1.0\t0.0\t\n",
      "0.0\t0.5\t0.5\t\n",
      "\n",
      "\n",
      "Smith wants to communicate referent 0\n",
      "Smith computes that signal 0 is most likely to succeed.\n",
      "Neo infers that referent 1 is most likely given the observed signal.\n"
     ]
    },
    {
     "data": {
      "text/plain": [
       "......\n",
       "......\n",
       "......\n",
       "......\n",
       "......\n",
       "......\n",
       "......\n",
       "......\n",
       "......\n",
       "......"
      ]
     },
     "execution_count": 7,
     "metadata": {},
     "output_type": "execute_result"
    }
   ],
   "source": [
    "val map = Vector[Vector[Double]](\n",
    "  Vector(1,1,0),\n",
    "  Vector(0,1,0),\n",
    "  Vector(0,1,1)\n",
    ")\n",
    "val lexicon = Lexicon(map)\n",
    "val order = 0\n",
    "val smith = new RSA1ShotAgent(lexicon, order)\n",
    "\n",
    "val smithTheSpeaker = smith.asSpeaker\n",
    "\n",
    "println(\"\\nSmith's zero order map:\\n\" + smithTheSpeaker.inferredLexicon)\n",
    "\n",
    "val neoTheListener = new RSA1ShotAgent(lexicon, order).asListener\n",
    "\n",
    "println(\"\\nNeo's zero order map:\\n\" + neoTheListener.inferredLexicon)\n",
    "\n",
    "val intention = 0\n",
    "println(\"\\nSmith wants to communicate referent \" + intention)\n",
    "\n",
    "val int = new ReferentialIntention(Option(intention))\n",
    "\n",
    "val mostProbableSignal = smithTheSpeaker.produceSignal(int)._1\n",
    "println(\"Smith computes that signal \" + mostProbableSignal.content.get + \" is most likely to succeed.\")\n",
    "\n",
    "val inferredReferent = neoTheListener.interpretSignal(mostProbableSignal)._1.content.get\n",
    "println(\"Neo infers that referent \" + inferredReferent + \" is most likely given the observed signal.\")"
   ]
  },
  {
   "cell_type": "markdown",
   "metadata": {},
   "source": [
    "We have so far had smith and neo communicate once. The power of simulations lies in the fact that agents never tire, we can run many agents under different conditions to extrapolate qualitative patterns. Below is the final code snippet that demonstrates a simple director-matcher experiment between smith and neo. They take turns communicating randomly assigned intentions. The complex code in the interaction loop is just there to print the results of each turn in the experiment. Try playing around with different mappings (e.g., high ambiguity  versus low ambiguity) or different orders of pragmatic inference. We have provided neo and smith with their own lexicons (mappings), so you can even investigate the effect of them not having the same lexicon. This simulation of Rational Speech Act can lead to novel insights into the role of pragmatic reasoning in communication."
   ]
  },
  {
   "cell_type": "code",
   "execution_count": 14,
   "metadata": {},
   "outputs": [
    {
     "name": "stderr",
     "output_type": "stream",
     "text": [
      "cmd14.sc:39: value intention is not a member of com.markblokpoel.lanag.ambiguityhelps.RSA1ShotDataStructures.RSA1TurnData\n",
      "    println(d.intention)\n",
      "              ^Compilation Failed"
     ]
    },
    {
     "ename": "",
     "evalue": "",
     "output_type": "error",
     "traceback": [
      "Compilation Failed"
     ]
    }
   ],
   "source": [
    "// Try chaning values in smith's lexicon\n",
    "val smithsLexicon = Vector[Vector[Double]](\n",
    "  Vector(1,1,0),\n",
    "  Vector(0,1,0),\n",
    "  Vector(0,1,1)\n",
    ")\n",
    "val smithsOrder = 0 // Try chaning smiths's order\n",
    "val smith = new RSA1ShotAgent(Lexicon(smithsLexicon), smithsOrder)\n",
    "val smithTheSpeaker = smith.asSpeaker\n",
    "println(\"Smith's \" + smithsOrder + \" order map:\\n\" + smithTheSpeaker.inferredLexicon)\n",
    "\n",
    "// Try chaning values in neo's lexicon\n",
    "val neosLexicon = Vector[Vector[Double]](\n",
    "  Vector(1,1,0),\n",
    "  Vector(0,1,0),\n",
    "  Vector(0,1,1)\n",
    ")\n",
    "val neosOrder = 0 // Try changing neo's order\n",
    "val neo = new RSA1ShotAgent(Lexicon(neosLexicon), neosOrder)\n",
    "val neoTheListener = neo.asListener\n",
    "println(\"\\nNeo's \" + neosOrder + \" order map:\\n\" + neoTheListener.inferredLexicon)\n",
    "\n",
    "\n",
    "\n",
    "val interaction = new RSA1ShotInteraction(smith, neo, maxTurns=5)\n",
    "\n",
    "\n",
    "(for(_ <- 0 until interaction.maxTurns) yield interaction.turn).foreach(d => {\n",
    "    println(d.intention)\n",
    "//     val (speaker, listener, intention, signal, inference) = new RSA1TurnData(d)\n",
    "//   val speakerName = if(speaker == smith.asSpeaker) \"smith\" else \"neo\"\n",
    "//   val listenerName = if(listener == smith.asListener) \"smith\" else \"neo\"\n",
    "//  println(d.turn.toString + \":\\t\" + d.success\n",
    "})\n",
    "\n",
    "// (for(_ <- 0 until interaction1.maxTurns) yield interaction1.turn).foreach(d => {\n",
    "//  println(d.turn.toString + \":\\t\" + d.success\n",
    "//    + \"\\t ent_s=\" + d.speakerData.speakerEntropy.getOrElse(\"n.a.\")\n",
    "//    + \"\\t ent_l=\" + d.listenerData.listenerEntropy.getOrElse(\"n.a.\"))\n",
    "// })\n",
    "                    \n"
   ]
  },
  {
   "cell_type": "code",
   "execution_count": null,
   "metadata": {},
   "outputs": [],
   "source": []
  }
 ],
 "metadata": {
  "kernelspec": {
   "display_name": "Scala",
   "language": "scala",
   "name": "scala"
  },
  "language_info": {
   "codemirror_mode": "text/x-scala",
   "file_extension": ".scala",
   "mimetype": "text/x-scala",
   "name": "scala",
   "nbconvert_exporter": "script",
   "version": "2.12.8"
  },
  "latex_envs": {
   "LaTeX_envs_menu_present": true,
   "autoclose": false,
   "autocomplete": true,
   "bibliofile": "biblio.bib",
   "cite_by": "apalike",
   "current_citInitial": 1,
   "eqLabelWithNumbers": true,
   "eqNumInitial": 1,
   "hotkeys": {
    "equation": "Ctrl-E",
    "itemize": "Ctrl-I"
   },
   "labels_anchors": false,
   "latex_user_defs": false,
   "report_style_numbering": false,
   "user_envs_cfg": false
  },
  "varInspector": {
   "cols": {
    "lenName": 16,
    "lenType": 16,
    "lenVar": 40
   },
   "kernels_config": {
    "python": {
     "delete_cmd_postfix": "",
     "delete_cmd_prefix": "del ",
     "library": "var_list.py",
     "varRefreshCmd": "print(var_dic_list())"
    },
    "r": {
     "delete_cmd_postfix": ") ",
     "delete_cmd_prefix": "rm(",
     "library": "var_list.r",
     "varRefreshCmd": "cat(var_dic_list()) "
    }
   },
   "types_to_exclude": [
    "module",
    "function",
    "builtin_function_or_method",
    "instance",
    "_Feature"
   ],
   "window_display": false
  }
 },
 "nbformat": 4,
 "nbformat_minor": 2
}
