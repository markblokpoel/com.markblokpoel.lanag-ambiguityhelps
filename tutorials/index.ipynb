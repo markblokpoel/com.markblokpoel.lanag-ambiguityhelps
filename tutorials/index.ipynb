{
 "cells": [
  {
   "cell_type": "markdown",
   "metadata": {},
   "source": [
    "# Rational Speech Act Simulation tutorials\n",
    "\n",
    "This repository contains a two part tutorial for learning how the Rational Speech Act is implemented in this framework and how to use it to create simulation experiments, specifically those reported in *submitted*.\n",
    "\n",
    "[Interactive simulation tutorial part 1: RSA](./rsa-tutorial-part1.ipynb)\n",
    "\n",
    "Part 1 explains how RSA is implemented and provides a step-by-step tutorial guiding you through basic understanding of the model's implementation. It follows the example given in the main paper.\n",
    "\n",
    "[Interactive simulation tutorial part 2: Simulation](./rsa-tutorial-part2.ipynb)\n",
    "\n",
    "Part 2 explains how a simulation is implemented and provides a step-by-step tutorial on how the software generates pairs of agents, runs interactions between them and how to collect and prepare the resulting data for export to `.csv`.\n"
   ]
  }
 ],
 "metadata": {
  "kernelspec": {
   "display_name": "Scala 2.12",
   "language": "scala",
   "name": "scala212"
  },
  "language_info": {
   "codemirror_mode": "text/x-scala",
   "file_extension": ".scala",
   "mimetype": "text/x-scala",
   "name": "scala",
   "nbconvert_exporter": "script",
   "version": "2.12.8"
  }
 },
 "nbformat": 4,
 "nbformat_minor": 2
}
